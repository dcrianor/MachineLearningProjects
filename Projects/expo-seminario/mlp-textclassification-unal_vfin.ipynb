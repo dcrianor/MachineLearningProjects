{
 "cells": [
  {
   "cell_type": "markdown",
   "id": "71a604dd",
   "metadata": {},
   "source": [
    "## Procesamiento de Lenguaje Natural: Clasificación de textos"
   ]
  },
  {
   "cell_type": "markdown",
   "id": "44b26d13",
   "metadata": {},
   "source": [
    "### 1. Importar las librerías"
   ]
  },
  {
   "cell_type": "code",
   "execution_count": 43,
   "id": "758b5cdd",
   "metadata": {
    "scrolled": true
   },
   "outputs": [],
   "source": [
    "import pandas as pd\n",
    "import numpy as np\n",
    "import nltk\n",
    "import re\n",
    "import torch\n",
    "import torch.nn as nn\n",
    "import torch.optim as optim\n",
    "import pytorch_lightning as pl\n",
    "import numpy as np\n",
    "from sklearn.model_selection import train_test_split\n",
    "from sklearn.feature_extraction.text import CountVectorizer\n",
    "from sklearn.metrics import accuracy_score\n",
    "from torch.utils.data import DataLoader, Dataset\n",
    "import spacy\n",
    "from unidecode import unidecode\n",
    "from tqdm import tqdm\n",
    "import pandas as pd\n",
    "from sklearn.preprocessing import LabelEncoder\n",
    "import fasttext\n",
    "from sklearn.model_selection import train_test_split\n",
    "import fasttext\n",
    "\n",
    "from sklearn.model_selection import train_test_split\n",
    "from sklearn.linear_model import LogisticRegression\n",
    "from sklearn.tree import DecisionTreeClassifier\n",
    "from sklearn.ensemble import RandomForestClassifier\n",
    "from sklearn.metrics import accuracy_score, confusion_matrix, classification_report, precision_score, recall_score\n",
    "\n",
    "import xgboost as xgb\n",
    "import matplotlib.pyplot as plt"
   ]
  },
  {
   "cell_type": "code",
   "execution_count": 2,
   "id": "0a0ff8a9",
   "metadata": {},
   "outputs": [
    {
     "data": {
      "text/plain": [
       "'1.7.7'"
      ]
     },
     "execution_count": 2,
     "metadata": {},
     "output_type": "execute_result"
    }
   ],
   "source": [
    "pl.__version__"
   ]
  },
  {
   "cell_type": "markdown",
   "id": "24de5026",
   "metadata": {},
   "source": [
    "### 2. Lectura de datos"
   ]
  },
  {
   "cell_type": "code",
   "execution_count": 3,
   "id": "e6f43708",
   "metadata": {},
   "outputs": [],
   "source": [
    "data = pd.read_excel('dataset-augmented-joined-fixed-with-id.xlsx')"
   ]
  },
  {
   "cell_type": "markdown",
   "id": "2c7674b3",
   "metadata": {},
   "source": [
    "### 3. Preprocesamiento de datos"
   ]
  },
  {
   "cell_type": "markdown",
   "id": "ab77d04f",
   "metadata": {},
   "source": [
    "#### 3.1. Normalización del texto"
   ]
  },
  {
   "cell_type": "code",
   "execution_count": 4,
   "id": "d30d2d2b",
   "metadata": {},
   "outputs": [
    {
     "name": "stderr",
     "output_type": "stream",
     "text": [
      "/home/melibuntu/.cache/pypoetry/virtualenvs/app-QoKfD4mD-py3.8/lib/python3.8/site-packages/torch/__init__.py:614: UserWarning: torch.set_default_tensor_type() is deprecated as of PyTorch 2.1, please use torch.set_default_dtype() and torch.set_default_device() as alternatives. (Triggered internally at ../torch/csrc/tensor/python_tensor.cpp:451.)\n",
      "  _C._set_default_tensor_type(t)\n"
     ]
    }
   ],
   "source": [
    "nlp = spacy.load('es_core_news_sm')\n",
    "wpt = nltk.WordPunctTokenizer()\n",
    "stop_words = nlp.Defaults.stop_words\n",
    "\n",
    "def normalize_document(doc):\n",
    "    # Utilizar Spacy para tokenizar, eliminar acentos y transformar a minúsculas\n",
    "   # remueve acentos: \n",
    "    doc = unidecode(doc)\n",
    "    # remueve caracteres especiales: \n",
    "    doc = re.sub(r'[^a-zA-Z\\s]', '', doc, re.I|re.A) \n",
    "    # re.I ignore si es mayúscula o minúscula; re.A solamente caracteres ASCII\n",
    "    # transforma a minúsculas\n",
    "    doc = doc.lower()\n",
    "    # remueve espacios en blanco en los extremos\n",
    "    doc = doc.strip()\n",
    "    tokens = wpt.tokenize(doc) #[token.text for token in doc if not token.is_punct]\n",
    "    \n",
    "    # Filtrar las palabras vacías\n",
    "    filtered_tokens = [token for token in tokens \\\n",
    "                       if token not in stop_words \\\n",
    "                      and len(token) > 2]\n",
    "    \n",
    "    # Reunir los tokens en un solo documento\n",
    "    doc = ' '.join(filtered_tokens)\n",
    "    \n",
    "    return doc"
   ]
  },
  {
   "cell_type": "code",
   "execution_count": 5,
   "id": "fe1affe7",
   "metadata": {},
   "outputs": [],
   "source": [
    "data['text_procesado'] = data['pregunta'].map(normalize_document)"
   ]
  },
  {
   "cell_type": "code",
   "execution_count": 6,
   "id": "195f6c76",
   "metadata": {},
   "outputs": [],
   "source": [
    "data['text_procesado'].to_csv('text_procesado_unal.txt')"
   ]
  },
  {
   "cell_type": "markdown",
   "id": "7cf056bc",
   "metadata": {},
   "source": [
    "#### 3.2. Train/test split"
   ]
  },
  {
   "cell_type": "code",
   "execution_count": 11,
   "id": "d293d4f0",
   "metadata": {},
   "outputs": [
    {
     "name": "stdout",
     "output_type": "stream",
     "text": [
      "Tamaño del conjunto de entrenamiento: 3197\n",
      "Tamaño del conjunto de prueba: 800\n"
     ]
    }
   ],
   "source": [
    "# Supongamos que tienes un DataFrame llamado 'data' con columnas 'features' y 'target'.\n",
    "X = data['text_procesado'].values  # Características\n",
    "y = data['respuesta_id'].values    # Objetivos\n",
    "\n",
    "# Divide los datos en conjuntos de entrenamiento y prueba\n",
    "X_train, X_test, y_train, y_test = train_test_split(X, y, test_size=0.2, random_state=42)\n",
    "\n",
    "# Puedes ajustar el valor de 'test_size' para controlar la proporción de datos en el conjunto de prueba.\n",
    "# 'random_state' se utiliza para garantizar la reproducibilidad de la división, puedes cambiar su valor.\n",
    "\n",
    "# Imprime las longitudes de los conjuntos de entrenamiento y prueba\n",
    "print(\"Tamaño del conjunto de entrenamiento:\", len(X_train))\n",
    "print(\"Tamaño del conjunto de prueba:\", len(X_test))"
   ]
  },
  {
   "cell_type": "markdown",
   "id": "4bbe02ca",
   "metadata": {},
   "source": [
    "#### 3.4. Representaciones vectoriales de palabras a partir de un corpus de texto"
   ]
  },
  {
   "cell_type": "code",
   "execution_count": 12,
   "id": "d66738d5",
   "metadata": {},
   "outputs": [
    {
     "name": "stderr",
     "output_type": "stream",
     "text": [
      "Warning : `load_model` does not return WordVectorModel or SupervisedModel any more, but a `FastText` object which is very similar.\n"
     ]
    }
   ],
   "source": [
    "path = 'text_representation_total_unal.ftz'\n",
    "\n",
    "try:\n",
    "    model_ft = fasttext.load_model(path)\n",
    "except:\n",
    "    model_ft = fasttext.train_unsupervised(\"text_procesado_unal.txt\", model='skipgram')\n",
    "    model_ft.save_model(path)"
   ]
  },
  {
   "cell_type": "code",
   "execution_count": 13,
   "id": "09e09740",
   "metadata": {},
   "outputs": [],
   "source": [
    "# Paso 2: Representa tus textos como vectores utilizando el modelo entrenado\n",
    "X_train_fasttext = [model_ft.get_sentence_vector(text) for text in X_train]\n",
    "X_test_fasttext = [model_ft.get_sentence_vector(text) for text in X_test]\n",
    "\n",
    "X_train_fasttext = np.array(X_train_fasttext)\n",
    "X_test_fasttext = np.array(X_test_fasttext)"
   ]
  },
  {
   "cell_type": "code",
   "execution_count": 14,
   "id": "46a7d2dc",
   "metadata": {},
   "outputs": [],
   "source": [
    "X_total = [model_ft.get_sentence_vector(text) for text in X]\n",
    "X_total_fasttext = np.array(X_total)"
   ]
  },
  {
   "cell_type": "markdown",
   "id": "8bd86bda",
   "metadata": {},
   "source": [
    "### 4. Modelos\n",
    "#### 4.1. Multilayer Perceptron"
   ]
  },
  {
   "cell_type": "code",
   "execution_count": 15,
   "id": "17480d10",
   "metadata": {},
   "outputs": [
    {
     "data": {
      "text/plain": [
       "'1.7.7'"
      ]
     },
     "execution_count": 15,
     "metadata": {},
     "output_type": "execute_result"
    }
   ],
   "source": [
    "pl.__version__"
   ]
  },
  {
   "cell_type": "code",
   "execution_count": 16,
   "id": "34953402",
   "metadata": {},
   "outputs": [
    {
     "name": "stderr",
     "output_type": "stream",
     "text": [
      "GPU available: False, used: False\n",
      "TPU available: False, using: 0 TPU cores\n",
      "IPU available: False, using: 0 IPUs\n",
      "HPU available: False, using: 0 HPUs\n",
      "100%|██████████| 100/100 [02:22<00:00,  1.43s/it]"
     ]
    },
    {
     "name": "stdout",
     "output_type": "stream",
     "text": [
      "Accuracy on test data: 0.0\n"
     ]
    },
    {
     "name": "stderr",
     "output_type": "stream",
     "text": [
      "\n"
     ]
    }
   ],
   "source": [
    "def init_weights(m):\n",
    "    if isinstance(m, nn.Linear):\n",
    "        nn.init.xavier_uniform_(m.weight)\n",
    "\n",
    "class TextClassificationModel(pl.LightningModule):\n",
    "    def __init__(self, input_dim, hidden_dim, output_dim, num_hidden_layers, dropout):\n",
    "        super(TextClassificationModel, self).__init__()\n",
    "        self.apply(init_weights)\n",
    "        self.input_layer = nn.Linear(input_dim, hidden_dim)  # Capa de entrada\n",
    "        self.hidden_layers = nn.ModuleList()\n",
    "        \n",
    "        # Agrega capas ocultas con Dropout\n",
    "        for _ in range(num_hidden_layers):\n",
    "            self.hidden_layers.append(nn.Linear(hidden_dim, hidden_dim))\n",
    "            self.hidden_layers.append(nn.ReLU())\n",
    "            self.hidden_layers.append(nn.Dropout(p=dropout))  # Añade una capa de Dropout con probabilidad dropout_prob\n",
    "        self.fc_out = nn.Linear(hidden_dim, output_dim)\n",
    "\n",
    "    def forward(self, x):\n",
    "        x = self.input_layer(x)  # Capa de entrada\n",
    "\n",
    "        for layer in self.hidden_layers:\n",
    "            x = layer(x)\n",
    "        x = self.fc_out(x)\n",
    "        return x\n",
    "\n",
    "    def optimizer(self):\n",
    "        optimizer = optim.Adam(self.parameters(), lr=1e-8, weight_decay=1e-4)\n",
    "        return optimizer\n",
    "\n",
    "    def training_step(self, batch, batch_idx):\n",
    "        x, y = batch\n",
    "        y_hat = self(x)\n",
    "        loss = nn.CrossEntropyLoss()(y_hat, y)\n",
    "        self.log('train_loss', loss)\n",
    "        return loss\n",
    "\n",
    "    def validation_step(self, batch, batch_idx):\n",
    "        x, y = batch\n",
    "        y_hat = self(x)\n",
    "        loss = nn.CrossEntropyLoss()(y_hat, y)\n",
    "        self.log('val_loss', loss)\n",
    "        return loss\n",
    "\n",
    "# Ajusta los hiperparámetros\n",
    "input_dim = X_train_fasttext.shape[1]\n",
    "hidden_dim = 512\n",
    "output_dim = len(data['respuesta_id'].unique())\n",
    "num_hidden_layers = 10\n",
    "dropout = 0.5  # Probabilidad de Dropout del 50%\n",
    "# Crea una instancia del modelo con los nuevos hiperparámetros\n",
    "\n",
    "model_mlp = TextClassificationModel(input_dim, hidden_dim, output_dim, num_hidden_layers, dropout)\n",
    "\n",
    "# Crear un DataLoader personalizado\n",
    "class TextDataset(Dataset):\n",
    "    def __init__(self, X, y):\n",
    "        self.X = X\n",
    "        self.y = y\n",
    "\n",
    "    def __len__(self):\n",
    "        return len(self.X)\n",
    "\n",
    "    def __getitem__(self, idx):\n",
    "        #print(idx)\n",
    "        return self.X[idx], self.y[idx]\n",
    "\n",
    "batch_size = 32\n",
    "train_dataset = TextDataset(X_train_fasttext, y_train)\n",
    "train_loader = DataLoader(train_dataset, batch_size=batch_size, shuffle=True)\n",
    "val_dataset = TextDataset(X_test_fasttext, y_test)\n",
    "val_loader = DataLoader(val_dataset, batch_size=batch_size)\n",
    "\n",
    "# Configuración del entrenamiento\n",
    "num_epochs = 100\n",
    "trainer = pl.Trainer(max_epochs=num_epochs)  # Si tienes una GPU disponible, puedes habilitarla aquí\n",
    "\n",
    "avg_train_loss = []\n",
    "avg_val_loss = []\n",
    "\n",
    "# Entrenamiento\n",
    "for epoch in tqdm(range(trainer.max_epochs)):\n",
    "    model_mlp.train()\n",
    "    total_loss = 0\n",
    "    num_batches = len(train_loader)\n",
    "\n",
    "    for batch in train_loader:\n",
    "        x, y = batch\n",
    "        model_mlp.optimizer().zero_grad()\n",
    "\n",
    "        y_hat = model_mlp(x)\n",
    "        #print(y_hat.shape)\n",
    "        y_hat_soft = nn.functional.softmax(y_hat, dim=1)\n",
    "        loss = nn.CrossEntropyLoss()(y_hat_soft, y.long())\n",
    "        total_loss += loss.item()\n",
    "        \n",
    "        loss.backward(retain_graph = True)\n",
    "        model_mlp.optimizer().step()\n",
    "    \n",
    "    avg_loss = total_loss / num_batches\n",
    "    avg_train_loss.append(avg_loss)\n",
    "\n",
    "    model_mlp.eval()\n",
    "    total_val_loss = 0\n",
    "    num_val_batches = len(val_loader)\n",
    "    \n",
    "    for batch in val_loader:\n",
    "        x, y = batch\n",
    "        model_mlp.optimizer().zero_grad()\n",
    "        y_hat = model_mlp(x)\n",
    "        y_hat_soft = nn.functional.softmax(y_hat, dim=1)\n",
    "        val_loss = nn.CrossEntropyLoss()(y_hat_soft, y.long())\n",
    "        total_val_loss += val_loss.item()\n",
    "        \n",
    "        #loss.backward(retain_graph=True)\n",
    "        #model.optimizer().step()\n",
    "\n",
    "    avg_val_loss.append(total_val_loss / num_val_batches)\n",
    "\n",
    "# Evaluación del modelo\n",
    "model_mlp.eval()\n",
    "y_pred_mlp = []\n",
    "\n",
    "with torch.no_grad():\n",
    "    for batch in val_loader:\n",
    "        x, _ = batch\n",
    "        y_hat = model_mlp(x)\n",
    "        y_hat_soft = nn.functional.softmax(y_hat, dim=1)\n",
    "        y_pred_mlp.extend(y_hat_soft.argmax(dim=1).cpu().numpy())\n",
    "\n",
    "accuracy = accuracy_score(y_test, y_pred_mlp)\n",
    "print(f'Accuracy on test data: {accuracy}')"
   ]
  },
  {
   "cell_type": "markdown",
   "id": "f2e09ee8",
   "metadata": {},
   "source": [
    "#### Training/Test Loss Plot"
   ]
  },
  {
   "cell_type": "code",
   "execution_count": 17,
   "id": "a2c2f244",
   "metadata": {},
   "outputs": [
    {
     "data": {
      "text/plain": [
       "Text(0.5, 0, 'Epoch')"
      ]
     },
     "execution_count": 17,
     "metadata": {},
     "output_type": "execute_result"
    },
    {
     "data": {
      "image/png": "[encoded data removed]",
      "text/plain": [
       "<Figure size 640x480 with 1 Axes>"
      ]
     },
     "metadata": {},
     "output_type": "display_data"
    }
   ],
   "source": [
    "epocas = np.arange(num_epochs)\n",
    "plt.plot(epocas, avg_train_loss, label = 'Training')\n",
    "plt.plot(epocas, avg_val_loss, label = 'Test')\n",
    "plt.legend()\n",
    "\n",
    "plt.title('Training/Test Loss Plot')\n",
    "plt.ylabel('Loss')\n",
    "plt.xlabel('Epoch')"
   ]
  },
  {
   "cell_type": "markdown",
   "id": "d0182213",
   "metadata": {},
   "source": [
    "#### Prueba del chatbot"
   ]
  },
  {
   "cell_type": "code",
   "execution_count": 20,
   "id": "09ca8b37",
   "metadata": {},
   "outputs": [],
   "source": [
    "def chatbot_mlp(pregunta):\n",
    "    x = model_ft.get_sentence_vector(normalize_document(pregunta))\n",
    "    x = torch.Tensor(x)\n",
    "    y = model_mlp(x).argmax().item()\n",
    "    respuesta = data[data['respuesta_id'] == y]['respuesta'].values[0]\n",
    "\n",
    "    print('respuesta',respuesta)"
   ]
  },
  {
   "cell_type": "code",
   "execution_count": 21,
   "id": "ee0d0545",
   "metadata": {},
   "outputs": [
    {
     "name": "stdin",
     "output_type": "stream",
     "text": [
      "Hola! ¿En qué te puedo ayudar hoy?  carreras\n"
     ]
    },
    {
     "name": "stdout",
     "output_type": "stream",
     "text": [
      "respuesta Las pruebas específicas son instrumentos que permiten identificar el nivel de afinidad con los aspectos propios de la asimilación, interpretación y producción artisitica.\n"
     ]
    }
   ],
   "source": [
    "pregunta = input('Hola! ¿En qué te puedo ayudar hoy? ')\n",
    "chatbot_mlp(pregunta)"
   ]
  },
  {
   "cell_type": "markdown",
   "id": "b12d3447",
   "metadata": {},
   "source": [
    "#### 4.2. Convolutional Neural Network"
   ]
  },
  {
   "cell_type": "code",
   "execution_count": 23,
   "id": "eaf4aebb",
   "metadata": {
    "scrolled": true
   },
   "outputs": [
    {
     "name": "stderr",
     "output_type": "stream",
     "text": [
      "GPU available: False, used: False\n",
      "TPU available: False, using: 0 TPU cores\n",
      "IPU available: False, using: 0 IPUs\n",
      "HPU available: False, using: 0 HPUs\n",
      "100%|██████████| 100/100 [01:16<00:00,  1.31it/s]"
     ]
    },
    {
     "name": "stdout",
     "output_type": "stream",
     "text": [
      "Accuracy on test data: 0.03375\n"
     ]
    },
    {
     "name": "stderr",
     "output_type": "stream",
     "text": [
      "\n"
     ]
    }
   ],
   "source": [
    "# Definición de la arquitectura de la CNN\n",
    "class TextCNNModel(pl.LightningModule):\n",
    "    def __init__(self, vocab_size, embedding_dim, num_classes, num_filters, filter_sizes, dropout):\n",
    "        super(TextCNNModel, self).__init__()\n",
    "        self.embedding = nn.Embedding(vocab_size, embedding_dim)\n",
    "        self.convs = nn.ModuleList([\n",
    "            nn.Conv2d(1, num_filters, (fs, embedding_dim)) for fs in filter_sizes\n",
    "        ])\n",
    "        self.fc = nn.Linear(num_filters * len(filter_sizes), num_classes)\n",
    "        self.dropout = nn.Dropout(dropout)\n",
    "\n",
    "    def forward(self, x):\n",
    "        x = self.embedding(x)\n",
    "        x = x.unsqueeze(1)\n",
    "        x = [torch.relu(conv(x)).squeeze(3) for conv in self.convs]\n",
    "        x = [torch.max_pool1d(i, i.size(2)).squeeze(2) for i in x]\n",
    "        x = torch.cat(x, 1)\n",
    "        x = self.dropout(x)\n",
    "        x = self.fc(x)\n",
    "        return x\n",
    "\n",
    "    def optimizer(self):\n",
    "        optimizer = optim.Adam(self.parameters(), lr=1e-4)  # Ajusta la tasa de aprendizaje según sea necesario\n",
    "        return optimizer\n",
    "\n",
    "    def training_step(self, batch, batch_idx):\n",
    "        x, y = batch\n",
    "        y_hat = self(x)\n",
    "        loss = nn.CrossEntropyLoss()(y_hat, y)\n",
    "        self.log('train_loss', loss)\n",
    "        return loss\n",
    "\n",
    "    def validation_step(self, batch, batch_idx):\n",
    "        x, y = batch\n",
    "        y_hat = self(x)\n",
    "        loss = nn.CrossEntropyLoss()(y_hat, y)\n",
    "        self.log('val_loss', loss)\n",
    "        return loss\n",
    "\n",
    "# Ajusta los hiperparámetros\n",
    "vocab_size = X_train_fasttext.shape[1]  # Reemplaza 'vocab' con tu propio vocabulario\n",
    "embedding_dim = 50  # Dimensión de los vectores de palabras pre-entrenados\n",
    "num_classes = len(data['respuesta_id'].unique())\n",
    "num_filters = 100\n",
    "filter_sizes = [3, 4, 5]  # Tamaños de los filtros convolucionales\n",
    "dropout = 0.5  # Probabilidad de Dropout del 50%\n",
    "\n",
    "# Crea una instancia del modelo de CNN\n",
    "model_cnn = TextCNNModel(vocab_size, embedding_dim, num_classes, num_filters, filter_sizes, dropout)\n",
    "\n",
    "# Configura los conjuntos de datos y los DataLoaders (ya los tienes configurados)\n",
    "\n",
    "# Crear un DataLoader personalizado\n",
    "class TextDataset(Dataset):\n",
    "    def __init__(self, X, y):\n",
    "        self.X = X\n",
    "        self.y = y\n",
    "\n",
    "    def __len__(self):\n",
    "        return len(self.X)\n",
    "\n",
    "    def __getitem__(self, idx):\n",
    "        #print(idx)\n",
    "        return self.X[idx], self.y[idx]\n",
    "\n",
    "batch_size = 64\n",
    "train_dataset = TextDataset(X_train_fasttext, y_train)\n",
    "train_loader = DataLoader(train_dataset, batch_size=batch_size, shuffle=True)\n",
    "val_dataset = TextDataset(X_test_fasttext, y_test)\n",
    "val_loader = DataLoader(val_dataset, batch_size=batch_size)\n",
    "\n",
    "# Configuración del entrenamiento\n",
    "num_epochs = 100\n",
    "trainer = pl.Trainer(max_epochs=num_epochs)  # Si tienes una GPU disponible, puedes habilitarla aquí\n",
    "\n",
    "avg_train_loss = []\n",
    "avg_val_loss = []\n",
    "\n",
    "# Entrenamiento\n",
    "for epoch in tqdm(range(trainer.max_epochs)):\n",
    "    model_cnn.train()\n",
    "    total_loss = 0\n",
    "    num_batches = len(train_loader)\n",
    "\n",
    "    for batch in train_loader:\n",
    "        x, y = batch\n",
    "        model_cnn.optimizer().zero_grad()\n",
    "\n",
    "        y_hat = model_cnn(x.long())\n",
    "        #print(y_hat.shape)\n",
    "        y_hat_soft = nn.functional.softmax(y_hat, dim=1)\n",
    "        loss = nn.CrossEntropyLoss()(y_hat_soft, y.long())\n",
    "        total_loss += loss.item()\n",
    "        \n",
    "        loss.backward(retain_graph = True)\n",
    "        model_cnn.optimizer().step()\n",
    "    \n",
    "    avg_loss = total_loss / num_batches\n",
    "    avg_train_loss.append(avg_loss)\n",
    "\n",
    "    model_cnn.eval()\n",
    "    total_val_loss = 0\n",
    "    num_val_batches = len(val_loader)\n",
    "    \n",
    "    for batch in val_loader:\n",
    "        x, y = batch\n",
    "        model_cnn.optimizer().zero_grad()\n",
    "        y_hat = model_cnn(x.long())\n",
    "        y_hat_soft = nn.functional.softmax(y_hat, dim=1)\n",
    "        val_loss = nn.CrossEntropyLoss()(y_hat_soft, y.long())\n",
    "        total_val_loss += val_loss.item()\n",
    "        \n",
    "        #loss.backward(retain_graph=True)\n",
    "        #model.optimizer().step()\n",
    "\n",
    "    avg_val_loss.append(total_val_loss / num_val_batches)\n",
    "\n",
    "# Evaluación del modelo\n",
    "model_cnn.eval()\n",
    "y_pred_cnn = []\n",
    "\n",
    "with torch.no_grad():\n",
    "    for batch in val_loader:\n",
    "        x, _ = batch\n",
    "        y_hat = model_cnn(x.long())\n",
    "        y_hat_soft = nn.functional.softmax(y_hat, dim=1)\n",
    "        y_pred_cnn.extend(y_hat_soft.argmax(dim=1).cpu().numpy())\n",
    "\n",
    "accuracy = accuracy_score(y_test, y_pred_cnn)\n",
    "print(f'Accuracy on test data: {accuracy}')"
   ]
  },
  {
   "cell_type": "markdown",
   "id": "af1c01ce",
   "metadata": {},
   "source": [
    "#### Training/Test Loss Plot"
   ]
  },
  {
   "cell_type": "code",
   "execution_count": 24,
   "id": "b5aecb06",
   "metadata": {},
   "outputs": [
    {
     "data": {
      "text/plain": [
       "Text(0.5, 0, 'Epoch')"
      ]
     },
     "execution_count": 24,
     "metadata": {},
     "output_type": "execute_result"
    },
    {
     "data": {
      "image/png": "[encoded data removed]",
      "text/plain": [
       "<Figure size 640x480 with 1 Axes>"
      ]
     },
     "metadata": {},
     "output_type": "display_data"
    }
   ],
   "source": [
    "epocas = np.arange(num_epochs)\n",
    "plt.plot(epocas, avg_train_loss, label = 'Training')\n",
    "plt.plot(epocas, avg_val_loss, label = 'Test')\n",
    "\n",
    "plt.legend()\n",
    "\n",
    "plt.title('Training/Test Loss Plot')\n",
    "plt.ylabel('Loss')\n",
    "plt.xlabel('Epoch')"
   ]
  },
  {
   "cell_type": "markdown",
   "id": "e844d5b6",
   "metadata": {},
   "source": [
    "#### Prueba del chatbot"
   ]
  },
  {
   "cell_type": "code",
   "execution_count": 31,
   "id": "71825329",
   "metadata": {},
   "outputs": [],
   "source": [
    "def chatbot_cnn(pregunta):\n",
    "    x = model_ft.get_sentence_vector(normalize_document(pregunta))\n",
    "    x = torch.Tensor(x).reshape(1,100)\n",
    "    y = model_cnn(x.long()).argmax().item()\n",
    "    respuesta = data[data['respuesta_id'] == y]['respuesta'].values[0]\n",
    "\n",
    "    print(f'respuesta',respuesta)"
   ]
  },
  {
   "cell_type": "code",
   "execution_count": 33,
   "id": "06f946ae",
   "metadata": {},
   "outputs": [
    {
     "name": "stdin",
     "output_type": "stream",
     "text": [
      "Hola! ¿En qué te puedo ayudar hoy?  carreras\n"
     ]
    },
    {
     "name": "stdout",
     "output_type": "stream",
     "text": [
      "respuesta Aspirante, tenga en cuenta que dada las condiciones actuales impuestas por el COVID-19, el proceso de evaluación de aspirantes a pregrado se realizará a partir de los resultados de la Prueba Saber 11.\n",
      " \n",
      "Durante el proceso de inscripción a la Universidad, el aspirante deberá diligenciar el número del Registro SNP y el número y tipo de documento con el que presentó la prueba Saber 11 que empleará en el proceso de admisión a la Universidad Nacional de Colombia. La prueba debe haber sido presentada a partir del 2014-2 toda vez que, de acuerdo con el ICFES, las pruebas aplicadas a partir de ese periodo son comparables.\n",
      "\n",
      "El puntaje de admisión con el cual participará el aspirante será calculado por la Universidad Nacional de Colombia a partir de los puntajes de las pruebas de Matemáticas (PMA), Lectura Crítica (PLC), Sociales y Ciudadanas (PSC) y Ciencias Naturales (PCN) de la Prueba Saber 11. El modelo del cálculo del puntaje de admisión se encuentra publicado en la página web de la Dirección Nacional de Admisiones.\n",
      "\n",
      "Quien no haya realizado la Prueba Saber 11 en los períodos indicados no se ajusta al criterio de admisión. Si desea participar en esta convocatoria puede optar por presentar las Pruebas Saber 11 que realizará el ICFES en el primer semestre del año en curso. Se sugiere verificar las fechas de inscripción directamente con esa institución.  \n",
      "\n",
      "Para ampliar la información sobre el pago y formalización para aspirantes que se encuentren en el exterior se invita a ingresar a la página web: www.admisiones.unal.edu.co, pestaña Pregrado, en la sección Información para aspirantes seleccione el vínculo \"Aspirantes que se encuentran fuera de Colombia\" o \"Aspirantes extranjeros que desean estudiar en la Universidad\". Allí encuentra una guía detallada para realizar el pago y diligenciar el formulario de inscripción desde el extranjero.\n"
     ]
    }
   ],
   "source": [
    "pregunta = input('Hola! ¿En qué te puedo ayudar hoy? ')\n",
    "chatbot_cnn(pregunta)"
   ]
  },
  {
   "cell_type": "markdown",
   "id": "ae3f88c8",
   "metadata": {},
   "source": [
    "#### 4.3. Recurrent Neural Network"
   ]
  },
  {
   "cell_type": "code",
   "execution_count": 34,
   "id": "2c416292",
   "metadata": {},
   "outputs": [
    {
     "name": "stderr",
     "output_type": "stream",
     "text": [
      "GPU available: False, used: False\n",
      "TPU available: False, using: 0 TPU cores\n",
      "IPU available: False, using: 0 IPUs\n",
      "HPU available: False, using: 0 HPUs\n",
      "100%|██████████| 100/100 [13:59<00:00,  8.39s/it]\n"
     ]
    },
    {
     "name": "stdout",
     "output_type": "stream",
     "text": [
      "Accuracy on test data: 0.03375\n"
     ]
    }
   ],
   "source": [
    "# Definición de la arquitectura de la RNN\n",
    "class TextRNNModel(pl.LightningModule):\n",
    "    def __init__(self, vocab_size, embedding_dim, hidden_dim, num_classes, num_layers, dropout):\n",
    "        super(TextRNNModel, self).__init__()\n",
    "        self.embedding = nn.Embedding(vocab_size, embedding_dim)\n",
    "        self.rnn = nn.RNN(input_size=embedding_dim, hidden_size=hidden_dim, num_layers=num_layers, dropout=dropout, batch_first=True)\n",
    "        self.fc = nn.Linear(hidden_dim, num_classes)\n",
    "\n",
    "    def forward(self, x):\n",
    "        x = self.embedding(x)\n",
    "        out, _ = self.rnn(x)\n",
    "        out = self.fc(out[:, -1, :])  # Utiliza la salida de la última capa de la secuencia\n",
    "        return out\n",
    "\n",
    "    def optimizer(self):\n",
    "        optimizer = optim.Adam(self.parameters(), lr=1e-3)  # Ajusta la tasa de aprendizaje según sea necesario\n",
    "        return optimizer\n",
    "\n",
    "    def training_step(self, batch, batch_idx):\n",
    "        x, y = batch\n",
    "        y_hat = self(x)\n",
    "        loss = nn.CrossEntropyLoss()(y_hat, y)\n",
    "        self.log('train_loss', loss)\n",
    "        return loss\n",
    "\n",
    "    def validation_step(self, batch, batch_idx):\n",
    "        x, y = batch\n",
    "        y_hat = self(x)\n",
    "        loss = nn.CrossEntropyLoss()(y_hat, y)\n",
    "        self.log('val_loss', loss)\n",
    "        return loss\n",
    "\n",
    "# Ajusta los hiperparámetros\n",
    "vocab_size = X_train_fasttext.shape[1]   # Reemplaza 'vocab' con tu propio vocabulario\n",
    "embedding_dim = 100  # Dimensión de los vectores de palabras pre-entrenados\n",
    "hidden_dim = 256  # Dimensión de las capas ocultas de la RNN\n",
    "num_classes = len(data['respuesta_id'].unique())\n",
    "num_layers = 2  # Número de capas de la RNN\n",
    "dropout = 0.5  # Probabilidad de Dropout del 50%\n",
    "\n",
    "# Crea una instancia del modelo de RNN\n",
    "model_rnn = TextRNNModel(vocab_size, embedding_dim, hidden_dim, num_classes, num_layers, dropout)\n",
    "\n",
    "# Configura los conjuntos de datos y los DataLoaders (ya los tienes configurados)\n",
    "\n",
    "# Crear un DataLoader personalizado\n",
    "class TextDataset(Dataset):\n",
    "    def __init__(self, X, y):\n",
    "        self.X = X\n",
    "        self.y = y\n",
    "\n",
    "    def __len__(self):\n",
    "        return len(self.X)\n",
    "\n",
    "    def __getitem__(self, idx):\n",
    "        #print(idx)\n",
    "        return self.X[idx], self.y[idx]\n",
    "\n",
    "batch_size = 32\n",
    "train_dataset = TextDataset(X_train_fasttext, y_train)\n",
    "train_loader = DataLoader(train_dataset, batch_size=batch_size, shuffle=True)\n",
    "val_dataset = TextDataset(X_test_fasttext, y_test)\n",
    "val_loader = DataLoader(val_dataset, batch_size=batch_size)\n",
    "\n",
    "# Configuración del entrenamiento\n",
    "num_epochs = 100\n",
    "trainer = pl.Trainer(max_epochs=num_epochs)  # Si tienes una GPU disponible, puedes habilitarla aquí\n",
    "\n",
    "avg_train_loss = []\n",
    "avg_val_loss = []\n",
    "\n",
    "# Entrenamiento\n",
    "for epoch in tqdm(range(trainer.max_epochs)):\n",
    "    model_rnn.train()\n",
    "    total_loss = 0\n",
    "    num_batches = len(train_loader)\n",
    "\n",
    "    for batch in train_loader:\n",
    "        x, y = batch\n",
    "        model_rnn.optimizer().zero_grad()\n",
    "\n",
    "        y_hat = model_rnn(x.long())\n",
    "        #print(y_hat.shape)\n",
    "        y_hat_soft = nn.functional.softmax(y_hat, dim=1)\n",
    "        loss = nn.CrossEntropyLoss()(y_hat_soft, y.long())\n",
    "        total_loss += loss.item()\n",
    "        \n",
    "        loss.backward(retain_graph = True)\n",
    "        model_rnn.optimizer().step()\n",
    "    \n",
    "    avg_loss = total_loss / num_batches\n",
    "    avg_train_loss.append(avg_loss)\n",
    "\n",
    "    model_rnn.eval()\n",
    "    total_val_loss = 0\n",
    "    num_val_batches = len(val_loader)\n",
    "    \n",
    "    for batch in val_loader:\n",
    "        x, y = batch\n",
    "        model_rnn.optimizer().zero_grad()\n",
    "        y_hat = model_rnn(x.long())\n",
    "        y_hat_soft = nn.functional.softmax(y_hat, dim=1)\n",
    "        val_loss = nn.CrossEntropyLoss()(y_hat_soft, y.long())\n",
    "        total_val_loss += val_loss.item()\n",
    "        \n",
    "        #loss.backward(retain_graph=True)\n",
    "        #model.optimizer().step()\n",
    "\n",
    "    avg_val_loss.append(total_val_loss / num_val_batches)\n",
    "\n",
    "# Evaluación del modelo\n",
    "model_rnn.eval()\n",
    "y_pred_rnn = []\n",
    "\n",
    "with torch.no_grad():\n",
    "    for batch in val_loader:\n",
    "        x, _ = batch\n",
    "        y_hat = model_rnn(x.long())\n",
    "        y_hat_soft = nn.functional.softmax(y_hat, dim=1)\n",
    "        y_pred_rnn.extend(y_hat_soft.argmax(dim=1).cpu().numpy())\n",
    "\n",
    "accuracy = accuracy_score(y_test, y_pred_rnn)\n",
    "print(f'Accuracy on test data: {accuracy}')"
   ]
  },
  {
   "cell_type": "markdown",
   "id": "90e8f692",
   "metadata": {},
   "source": [
    "#### Training/Test Loss Plot"
   ]
  },
  {
   "cell_type": "code",
   "execution_count": 35,
   "id": "73d95e4a",
   "metadata": {},
   "outputs": [
    {
     "data": {
      "text/plain": [
       "Text(0.5, 0, 'Epoch')"
      ]
     },
     "execution_count": 35,
     "metadata": {},
     "output_type": "execute_result"
    },
    {
     "data": {
      "image/png": "[encoded data removed]",
      "text/plain": [
       "<Figure size 640x480 with 1 Axes>"
      ]
     },
     "metadata": {},
     "output_type": "display_data"
    }
   ],
   "source": [
    "epocas = np.arange(num_epochs)\n",
    "plt.plot(epocas, avg_train_loss, label = 'Training')\n",
    "plt.plot(epocas, avg_val_loss, label = 'Test')\n",
    "\n",
    "plt.legend()\n",
    "\n",
    "plt.title('Training/Test Loss Plot')\n",
    "plt.ylabel('Loss')\n",
    "plt.xlabel('Epoch')"
   ]
  },
  {
   "cell_type": "markdown",
   "id": "57ab4a7e",
   "metadata": {},
   "source": [
    "#### Prueba del chatbot"
   ]
  },
  {
   "cell_type": "code",
   "execution_count": 36,
   "id": "ede88ed5",
   "metadata": {},
   "outputs": [],
   "source": [
    "def chatbot_rnn(pregunta):\n",
    "    x = model_ft.get_sentence_vector(normalize_document(pregunta))\n",
    "    x = torch.Tensor(x).reshape(1,100)\n",
    "\n",
    "    y = model_rnn(x.long()).argmax(dim = 1).item()\n",
    "    \n",
    "    respuesta = data[data['respuesta_id'] == y]['respuesta'].values[0]\n",
    "\n",
    "    print('respuesta',respuesta)"
   ]
  },
  {
   "cell_type": "code",
   "execution_count": 37,
   "id": "3f1430c7",
   "metadata": {},
   "outputs": [
    {
     "name": "stdin",
     "output_type": "stream",
     "text": [
      "Hola! En qué puedo ayudarte hoy?  carreras\n"
     ]
    },
    {
     "name": "stdout",
     "output_type": "stream",
     "text": [
      "respuesta Aspirante, tenga en cuenta que dada las condiciones actuales impuestas por el COVID-19, el proceso de evaluación de aspirantes a pregrado se realizará a partir de los resultados de la Prueba Saber 11.\n",
      " \n",
      "Durante el proceso de inscripción a la Universidad, el aspirante deberá diligenciar el número del Registro SNP y el número y tipo de documento con el que presentó la prueba Saber 11 que empleará en el proceso de admisión a la Universidad Nacional de Colombia. La prueba debe haber sido presentada a partir del 2014-2 toda vez que, de acuerdo con el ICFES, las pruebas aplicadas a partir de ese periodo son comparables.\n",
      "\n",
      "El puntaje de admisión con el cual participará el aspirante será calculado por la Universidad Nacional de Colombia a partir de los puntajes de las pruebas de Matemáticas (PMA), Lectura Crítica (PLC), Sociales y Ciudadanas (PSC) y Ciencias Naturales (PCN) de la Prueba Saber 11. El modelo del cálculo del puntaje de admisión se encuentra publicado en la página web de la Dirección Nacional de Admisiones.\n",
      "\n",
      "Quien no haya realizado la Prueba Saber 11 en los períodos indicados no se ajusta al criterio de admisión. Si desea participar en esta convocatoria puede optar por presentar las Pruebas Saber 11 que realizará el ICFES en el primer semestre del año en curso. Se sugiere verificar las fechas de inscripción directamente con esa institución.  \n",
      "\n",
      "Para ampliar la información sobre el pago y formalización para aspirantes que se encuentren en el exterior se invita a ingresar a la página web: www.admisiones.unal.edu.co, pestaña Pregrado, en la sección Información para aspirantes seleccione el vínculo \"Aspirantes que se encuentran fuera de Colombia\" o \"Aspirantes extranjeros que desean estudiar en la Universidad\". Allí encuentra una guía detallada para realizar el pago y diligenciar el formulario de inscripción desde el extranjero.\n"
     ]
    }
   ],
   "source": [
    "pregunta = input('Hola! En qué puedo ayudarte hoy? ')\n",
    "chatbot_rnn(pregunta)"
   ]
  },
  {
   "cell_type": "markdown",
   "id": "4ae0dde7",
   "metadata": {},
   "source": [
    "#### 4.4. XGBoost"
   ]
  },
  {
   "cell_type": "code",
   "execution_count": 38,
   "id": "220009c5",
   "metadata": {},
   "outputs": [
    {
     "data": {
      "text/plain": [
       "(3197, 100)"
      ]
     },
     "execution_count": 38,
     "metadata": {},
     "output_type": "execute_result"
    }
   ],
   "source": [
    "X_train_fasttext.shape"
   ]
  },
  {
   "cell_type": "code",
   "execution_count": 39,
   "id": "bbb88c7f",
   "metadata": {},
   "outputs": [
    {
     "data": {
      "text/plain": [
       "(3197,)"
      ]
     },
     "execution_count": 39,
     "metadata": {},
     "output_type": "execute_result"
    }
   ],
   "source": [
    "y_train.shape"
   ]
  },
  {
   "cell_type": "code",
   "execution_count": 40,
   "id": "dab503e0",
   "metadata": {},
   "outputs": [
    {
     "name": "stdout",
     "output_type": "stream",
     "text": [
      "Accuracy on test data: 0.4975\n"
     ]
    }
   ],
   "source": [
    "# 3. Entrenamiento del modelo XGBoost\n",
    "model_xg = xgb.XGBClassifier()\n",
    "model_xg.fit(X_train_fasttext, y_train, verbose = True)\n",
    "\n",
    "# Predicciones en el conjunto de prueba\n",
    "y_pred_xg = model_xg.predict(X_test_fasttext)\n",
    "\n",
    "# Evaluación del modelo\n",
    "accuracy = accuracy_score(y_test, y_pred_xg)\n",
    "print(f'Accuracy on test data: {accuracy}')"
   ]
  },
  {
   "cell_type": "markdown",
   "id": "1d2a729c",
   "metadata": {},
   "source": [
    "#### Prueba chatbot"
   ]
  },
  {
   "cell_type": "code",
   "execution_count": 41,
   "id": "c6e8beeb",
   "metadata": {},
   "outputs": [],
   "source": [
    "def chatbot_xgboost(pregunta):\n",
    "    x = model_ft.get_sentence_vector(normalize_document(pregunta))\n",
    "    y = model_xg.predict(np.array([x]))[0]\n",
    "    \n",
    "    respuesta = data[data['respuesta_id'] == y]['respuesta'].values[0]\n",
    "\n",
    "    print('respuesta',respuesta)"
   ]
  },
  {
   "cell_type": "code",
   "execution_count": 42,
   "id": "8030552f",
   "metadata": {},
   "outputs": [
    {
     "name": "stdin",
     "output_type": "stream",
     "text": [
      "Hola! En qué puedo ayudarte hoy? carreras\n"
     ]
    },
    {
     "name": "stdout",
     "output_type": "stream",
     "text": [
      "respuesta En el momento de realizar la inscripción en la página web admisiones.unal.edu.co, podrá indicar hasta tres carreras de acuerdo a su prioridad.\n"
     ]
    }
   ],
   "source": [
    "pregunta = input('Hola! En qué puedo ayudarte hoy?')\n",
    "chatbot_xgboost(pregunta)"
   ]
  },
  {
   "cell_type": "markdown",
   "id": "12cb0d30",
   "metadata": {},
   "source": [
    "### 5. Métricas"
   ]
  },
  {
   "cell_type": "code",
   "execution_count": 44,
   "id": "11342e38",
   "metadata": {},
   "outputs": [
    {
     "name": "stdout",
     "output_type": "stream",
     "text": [
      "Exactitud (Accuracy):\n",
      "Multilayer Perceptron: 0.0\n",
      "Convolutional Neural Network: 0.03375\n",
      "Recurrent Neural Network: 0.03375\n",
      "XGBoost: 0.4975\n",
      "\n",
      "Precisión (Precision):\n",
      "Multilayer Perceptron: 0.0\n",
      "Convolutional Neural Network: 0.0011390625\n",
      "Recurrent Neural Network: 0.0011390625\n",
      "XGBoost: 0.5084826982297378\n",
      "\n",
      "Sensitividad (Recall):\n",
      "Multilayer Perceptron: 0.0\n",
      "Convolutional Neural Network: 0.03375\n",
      "Recurrent Neural Network: 0.03375\n",
      "XGBoost: 0.4975\n"
     ]
    },
    {
     "name": "stderr",
     "output_type": "stream",
     "text": [
      "/home/melibuntu/.cache/pypoetry/virtualenvs/app-QoKfD4mD-py3.8/lib/python3.8/site-packages/sklearn/metrics/_classification.py:1344: UndefinedMetricWarning: Precision is ill-defined and being set to 0.0 in labels with no predicted samples. Use `zero_division` parameter to control this behavior.\n",
      "  _warn_prf(average, modifier, msg_start, len(result))\n",
      "/home/melibuntu/.cache/pypoetry/virtualenvs/app-QoKfD4mD-py3.8/lib/python3.8/site-packages/sklearn/metrics/_classification.py:1344: UndefinedMetricWarning: Precision is ill-defined and being set to 0.0 in labels with no predicted samples. Use `zero_division` parameter to control this behavior.\n",
      "  _warn_prf(average, modifier, msg_start, len(result))\n",
      "/home/melibuntu/.cache/pypoetry/virtualenvs/app-QoKfD4mD-py3.8/lib/python3.8/site-packages/sklearn/metrics/_classification.py:1344: UndefinedMetricWarning: Precision is ill-defined and being set to 0.0 in labels with no predicted samples. Use `zero_division` parameter to control this behavior.\n",
      "  _warn_prf(average, modifier, msg_start, len(result))\n",
      "/home/melibuntu/.cache/pypoetry/virtualenvs/app-QoKfD4mD-py3.8/lib/python3.8/site-packages/sklearn/metrics/_classification.py:1344: UndefinedMetricWarning: Precision is ill-defined and being set to 0.0 in labels with no predicted samples. Use `zero_division` parameter to control this behavior.\n",
      "  _warn_prf(average, modifier, msg_start, len(result))\n",
      "/home/melibuntu/.cache/pypoetry/virtualenvs/app-QoKfD4mD-py3.8/lib/python3.8/site-packages/sklearn/metrics/_classification.py:1344: UndefinedMetricWarning: Recall is ill-defined and being set to 0.0 in labels with no true samples. Use `zero_division` parameter to control this behavior.\n",
      "  _warn_prf(average, modifier, msg_start, len(result))\n",
      "/home/melibuntu/.cache/pypoetry/virtualenvs/app-QoKfD4mD-py3.8/lib/python3.8/site-packages/sklearn/metrics/_classification.py:1344: UndefinedMetricWarning: Recall is ill-defined and being set to 0.0 in labels with no true samples. Use `zero_division` parameter to control this behavior.\n",
      "  _warn_prf(average, modifier, msg_start, len(result))\n"
     ]
    }
   ],
   "source": [
    "# Calcular y comparar métricas\n",
    "accuracy_mlp = accuracy_score(y_test, y_pred_mlp)\n",
    "accuracy_cnn = accuracy_score(y_test, y_pred_cnn)\n",
    "accuracy_rnn = accuracy_score(y_test, y_pred_rnn)\n",
    "accuracy_xg = accuracy_score(y_test, y_pred_xg)\n",
    "\n",
    "precision_mlp = precision_score(y_test, y_pred_mlp, average = 'weighted')\n",
    "precision_cnn = precision_score(y_test, y_pred_cnn,  average = 'weighted')\n",
    "precision_rnn = precision_score(y_test, y_pred_rnn,  average = 'weighted')\n",
    "precision_xg = precision_score(y_test, y_pred_xg,  average = 'weighted')\n",
    "\n",
    "recall_mlp = recall_score(y_test, y_pred_mlp, average = 'weighted')\n",
    "recall_cnn = recall_score(y_test, y_pred_cnn,  average = 'weighted')\n",
    "recall_rnn = recall_score(y_test, y_pred_rnn,  average = 'weighted')\n",
    "recall_xg = recall_score(y_test, y_pred_xg,  average = 'weighted')\n",
    "\n",
    "# Imprimir las métricas\n",
    "print(\"Exactitud (Accuracy):\")\n",
    "print(f\"Multilayer Perceptron: {accuracy_mlp}\")\n",
    "print(f\"Convolutional Neural Network: {accuracy_cnn}\")\n",
    "print(f\"Recurrent Neural Network: {accuracy_rnn}\")\n",
    "print(f\"XGBoost: {accuracy_xg}\")\n",
    "\n",
    "# Imprimir las métricas\n",
    "print(\"\\nPrecisión (Precision):\")\n",
    "print(f\"Multilayer Perceptron: {precision_mlp}\")\n",
    "print(f\"Convolutional Neural Network: {precision_cnn}\")\n",
    "print(f\"Recurrent Neural Network: {precision_rnn}\")\n",
    "print(f\"XGBoost: {precision_xg}\")\n",
    "\n",
    "# Imprimir las métricas\n",
    "print(\"\\nSensitividad (Recall):\")\n",
    "print(f\"Multilayer Perceptron: {recall_mlp}\")\n",
    "print(f\"Convolutional Neural Network: {recall_cnn}\")\n",
    "print(f\"Recurrent Neural Network: {recall_rnn}\")\n",
    "print(f\"XGBoost: {recall_xg}\")"
   ]
  },
  {
   "cell_type": "markdown",
   "id": "908d9795",
   "metadata": {},
   "source": [
    "### Fasttext"
   ]
  },
  {
   "cell_type": "code",
   "execution_count": 46,
   "id": "9243bfb5",
   "metadata": {},
   "outputs": [],
   "source": [
    "data['label'] = '__label__' + data['respuesta_id'].astype(float).astype(int).astype(str) + ' ' + data['text_procesado'].astype(str)\n",
    "\n",
    "X = data['label'].values  # Características\n",
    "\n",
    "# Divide los datos en conjuntos de entrenamiento y prueba\n",
    "X_train, X_test = train_test_split(X, test_size=0.2, random_state=42)"
   ]
  },
  {
   "cell_type": "code",
   "execution_count": 47,
   "id": "2505da61",
   "metadata": {},
   "outputs": [],
   "source": [
    "data_train = pd.DataFrame({'label': X_train})\n",
    "\n",
    "data_train.to_csv('datos_train_unal_fastext.txt', index = False, header = False)\n",
    "\n",
    "data_test = pd.DataFrame({'label': X_test})\n",
    "\n",
    "data_test.to_csv('datos_test_unal_fastext.txt', index = False, header = False)"
   ]
  },
  {
   "cell_type": "code",
   "execution_count": 48,
   "id": "97e8d50a",
   "metadata": {},
   "outputs": [
    {
     "name": "stdout",
     "output_type": "stream",
     "text": [
      "__label__71 debo inscribirme examen suficiencia ingles procedimiento\n",
      "__label__30 precio carrera medicina\n",
      "__label__161 ubicacion rendir examen exterior\n",
      "__label__166 procedimiento devolucion pin utilice convocatoria\n",
      "__label__161 restriccion estudiantes extranjeros proceso admision\n",
      "__label__101 necesario indigena participar programa comunidades indigenas\n",
      "__label__30 costo estudiar medicina\n",
      "__label__47 algun costo asociado solicitud admision\n",
      "__label__47 universidad ofrece servicios apoyo estudiantes discapacidad visual\n",
      "__label__31 acceso codigo icfes colegio\n"
     ]
    }
   ],
   "source": [
    "!head datos_train_unal_fastext.txt"
   ]
  },
  {
   "cell_type": "code",
   "execution_count": 49,
   "id": "42386973",
   "metadata": {},
   "outputs": [
    {
     "name": "stderr",
     "output_type": "stream",
     "text": [
      "Warning : `load_model` does not return WordVectorModel or SupervisedModel any more, but a `FastText` object which is very similar.\n"
     ]
    }
   ],
   "source": [
    "try:\n",
    "    model_ft_clas = fasttext.load_model('modelo_fasttext_class.ftz')\n",
    "except:\n",
    "    model_ft_clas = fasttext.train_supervised(input='datos_train_unal_fastext.txt', \n",
    "                                              autotuneValidationFile='datos_test_unal_fastext.txt')\n",
    "    model_ft_clas.save_model('modelo_fasttext_class.ftz')"
   ]
  },
  {
   "cell_type": "code",
   "execution_count": 50,
   "id": "a6d968b8",
   "metadata": {},
   "outputs": [
    {
     "data": {
      "text/plain": [
       "(800, 0.78, 0.78)"
      ]
     },
     "execution_count": 50,
     "metadata": {},
     "output_type": "execute_result"
    }
   ],
   "source": [
    "model_ft_clas.test('datos_test_unal_fastext.txt')"
   ]
  },
  {
   "cell_type": "code",
   "execution_count": 54,
   "id": "f807f77e",
   "metadata": {},
   "outputs": [
    {
     "data": {
      "text/plain": [
       "{'__label__150': {'precision': 1.0, 'recall': nan, 'f1score': 2.0},\n",
       " '__label__154': {'precision': 1.0, 'recall': nan, 'f1score': 2.0},\n",
       " '__label__16': {'precision': 1.0, 'recall': nan, 'f1score': 2.0},\n",
       " '__label__65': {'precision': 1.0, 'recall': nan, 'f1score': 2.0},\n",
       " '__label__24': {'precision': 0.8, 'recall': nan, 'f1score': 1.6},\n",
       " '__label__122': {'precision': 1.0, 'recall': nan, 'f1score': 2.0},\n",
       " '__label__144': {'precision': 1.0, 'recall': nan, 'f1score': 2.0},\n",
       " '__label__133': {'precision': 0.6666666666666666,\n",
       "  'recall': nan,\n",
       "  'f1score': 1.3333333333333333},\n",
       " '__label__14': {'precision': 0.3333333333333333,\n",
       "  'recall': nan,\n",
       "  'f1score': 0.6666666666666666},\n",
       " '__label__45': {'precision': 0.0, 'recall': nan, 'f1score': 0.0},\n",
       " '__label__12': {'precision': 1.0, 'recall': nan, 'f1score': 2.0},\n",
       " '__label__170': {'precision': 1.0, 'recall': nan, 'f1score': 2.0},\n",
       " '__label__116': {'precision': 1.0, 'recall': nan, 'f1score': 2.0},\n",
       " '__label__146': {'precision': 1.0, 'recall': nan, 'f1score': 2.0},\n",
       " '__label__53': {'precision': 1.0, 'recall': nan, 'f1score': 2.0},\n",
       " '__label__147': {'precision': 1.0, 'recall': nan, 'f1score': 2.0},\n",
       " '__label__15': {'precision': 0.0, 'recall': nan, 'f1score': 0.0},\n",
       " '__label__2': {'precision': 0.3333333333333333,\n",
       "  'recall': nan,\n",
       "  'f1score': 0.6666666666666666},\n",
       " '__label__88': {'precision': 1.0, 'recall': nan, 'f1score': 2.0},\n",
       " '__label__157': {'precision': 1.0, 'recall': nan, 'f1score': 2.0},\n",
       " '__label__4': {'precision': 0.5, 'recall': nan, 'f1score': 1.0},\n",
       " '__label__67': {'precision': 1.0, 'recall': nan, 'f1score': 2.0},\n",
       " '__label__84': {'precision': 1.0, 'recall': nan, 'f1score': 2.0},\n",
       " '__label__13': {'precision': 1.0, 'recall': nan, 'f1score': 2.0},\n",
       " '__label__96': {'precision': 1.0, 'recall': nan, 'f1score': 2.0},\n",
       " '__label__128': {'precision': 0.6666666666666666,\n",
       "  'recall': nan,\n",
       "  'f1score': 1.3333333333333333},\n",
       " '__label__40': {'precision': 1.0, 'recall': nan, 'f1score': 2.0},\n",
       " '__label__60': {'precision': 0.7142857142857143,\n",
       "  'recall': nan,\n",
       "  'f1score': 1.4285714285714286},\n",
       " '__label__90': {'precision': 1.0, 'recall': nan, 'f1score': 2.0},\n",
       " '__label__103': {'precision': 1.0, 'recall': nan, 'f1score': 2.0},\n",
       " '__label__82': {'precision': 0.25, 'recall': nan, 'f1score': 0.5},\n",
       " '__label__108': {'precision': 0.5, 'recall': nan, 'f1score': 1.0},\n",
       " '__label__55': {'precision': nan, 'recall': nan, 'f1score': nan},\n",
       " '__label__22': {'precision': 0.0, 'recall': nan, 'f1score': 0.0},\n",
       " '__label__39': {'precision': 1.0, 'recall': nan, 'f1score': 2.0},\n",
       " '__label__61': {'precision': 0.75, 'recall': nan, 'f1score': 1.5},\n",
       " '__label__59': {'precision': 1.0, 'recall': nan, 'f1score': 2.0},\n",
       " '__label__63': {'precision': nan, 'recall': nan, 'f1score': nan},\n",
       " '__label__49': {'precision': 1.0, 'recall': nan, 'f1score': 2.0},\n",
       " '__label__139': {'precision': 0.25, 'recall': nan, 'f1score': 0.5},\n",
       " '__label__69': {'precision': 1.0, 'recall': nan, 'f1score': 2.0},\n",
       " '__label__97': {'precision': 1.0, 'recall': nan, 'f1score': 2.0},\n",
       " '__label__100': {'precision': 0.0, 'recall': nan, 'f1score': 0.0},\n",
       " '__label__163': {'precision': 1.0, 'recall': nan, 'f1score': 2.0},\n",
       " '__label__92': {'precision': 0.6666666666666666,\n",
       "  'recall': nan,\n",
       "  'f1score': 1.3333333333333333},\n",
       " '__label__27': {'precision': 1.0, 'recall': nan, 'f1score': 2.0},\n",
       " '__label__36': {'precision': 0.7142857142857143,\n",
       "  'recall': nan,\n",
       "  'f1score': 1.4285714285714286},\n",
       " '__label__48': {'precision': 0.5, 'recall': nan, 'f1score': 1.0},\n",
       " '__label__162': {'precision': 0.5714285714285714,\n",
       "  'recall': nan,\n",
       "  'f1score': 1.1428571428571428},\n",
       " '__label__149': {'precision': 0.8333333333333334,\n",
       "  'recall': nan,\n",
       "  'f1score': 1.6666666666666667},\n",
       " '__label__104': {'precision': 0.8571428571428571,\n",
       "  'recall': nan,\n",
       "  'f1score': 1.7142857142857142},\n",
       " '__label__34': {'precision': 1.0, 'recall': nan, 'f1score': 2.0},\n",
       " '__label__111': {'precision': 0.7777777777777778,\n",
       "  'recall': nan,\n",
       "  'f1score': 1.5555555555555556},\n",
       " '__label__18': {'precision': 0.3333333333333333,\n",
       "  'recall': nan,\n",
       "  'f1score': 0.6666666666666666},\n",
       " '__label__155': {'precision': 1.0, 'recall': nan, 'f1score': 2.0},\n",
       " '__label__138': {'precision': 0.0, 'recall': nan, 'f1score': 0.0},\n",
       " '__label__93': {'precision': 1.0, 'recall': nan, 'f1score': 2.0},\n",
       " '__label__80': {'precision': nan, 'recall': nan, 'f1score': nan},\n",
       " '__label__161': {'precision': 0.8148148148148148,\n",
       "  'recall': nan,\n",
       "  'f1score': 1.6296296296296295},\n",
       " '__label__7': {'precision': 0.75, 'recall': nan, 'f1score': 1.5},\n",
       " '__label__70': {'precision': 1.0, 'recall': nan, 'f1score': 2.0},\n",
       " '__label__169': {'precision': 1.0, 'recall': nan, 'f1score': 2.0},\n",
       " '__label__71': {'precision': 1.0, 'recall': nan, 'f1score': 2.0},\n",
       " '__label__38': {'precision': 1.0, 'recall': nan, 'f1score': 2.0},\n",
       " '__label__32': {'precision': 1.0, 'recall': nan, 'f1score': 2.0},\n",
       " '__label__148': {'precision': 1.0, 'recall': nan, 'f1score': 2.0},\n",
       " '__label__57': {'precision': 0.75, 'recall': nan, 'f1score': 1.5},\n",
       " '__label__6': {'precision': 1.0, 'recall': nan, 'f1score': 2.0},\n",
       " '__label__74': {'precision': 1.0, 'recall': nan, 'f1score': 2.0},\n",
       " '__label__5': {'precision': 0.4, 'recall': nan, 'f1score': 0.8},\n",
       " '__label__168': {'precision': 0.75, 'recall': nan, 'f1score': 1.5},\n",
       " '__label__72': {'precision': 0.9166666666666666,\n",
       "  'recall': nan,\n",
       "  'f1score': 1.8333333333333333},\n",
       " '__label__105': {'precision': 0.5714285714285714,\n",
       "  'recall': nan,\n",
       "  'f1score': 1.1428571428571428},\n",
       " '__label__42': {'precision': 0.625, 'recall': nan, 'f1score': 1.25},\n",
       " '__label__91': {'precision': 1.0, 'recall': nan, 'f1score': 2.0},\n",
       " '__label__41': {'precision': 0.8, 'recall': nan, 'f1score': 1.6},\n",
       " '__label__166': {'precision': 0.7647058823529411,\n",
       "  'recall': nan,\n",
       "  'f1score': 1.5294117647058822},\n",
       " '__label__112': {'precision': 0.8333333333333334,\n",
       "  'recall': nan,\n",
       "  'f1score': 1.6666666666666667},\n",
       " '__label__99': {'precision': 1.0, 'recall': nan, 'f1score': 2.0},\n",
       " '__label__47': {'precision': 0.7916666666666666,\n",
       "  'recall': nan,\n",
       "  'f1score': 1.5833333333333333},\n",
       " '__label__156': {'precision': 1.0, 'recall': nan, 'f1score': 2.0},\n",
       " '__label__110': {'precision': 1.0, 'recall': nan, 'f1score': 2.0},\n",
       " '__label__52': {'precision': 1.0, 'recall': nan, 'f1score': 2.0},\n",
       " '__label__130': {'precision': 0.3333333333333333,\n",
       "  'recall': nan,\n",
       "  'f1score': 0.6666666666666666},\n",
       " '__label__135': {'precision': 0.0, 'recall': nan, 'f1score': 0.0},\n",
       " '__label__95': {'precision': 0.875, 'recall': nan, 'f1score': 1.75},\n",
       " '__label__119': {'precision': 0.5, 'recall': nan, 'f1score': 1.0},\n",
       " '__label__164': {'precision': 0.75, 'recall': nan, 'f1score': 1.5},\n",
       " '__label__21': {'precision': 1.0, 'recall': nan, 'f1score': 2.0},\n",
       " '__label__54': {'precision': 0.9, 'recall': nan, 'f1score': 1.8},\n",
       " '__label__107': {'precision': 0.2, 'recall': nan, 'f1score': 0.4},\n",
       " '__label__136': {'precision': 1.0, 'recall': nan, 'f1score': 2.0},\n",
       " '__label__0': {'precision': 0.75, 'recall': nan, 'f1score': 1.5},\n",
       " '__label__86': {'precision': 1.0, 'recall': nan, 'f1score': 2.0},\n",
       " '__label__98': {'precision': 0.8666666666666667,\n",
       "  'recall': nan,\n",
       "  'f1score': 1.7333333333333334},\n",
       " '__label__94': {'precision': 0.7222222222222222,\n",
       "  'recall': nan,\n",
       "  'f1score': 1.4444444444444444},\n",
       " '__label__25': {'precision': 1.0, 'recall': nan, 'f1score': 2.0},\n",
       " '__label__167': {'precision': 1.0, 'recall': nan, 'f1score': 2.0},\n",
       " '__label__113': {'precision': 1.0, 'recall': nan, 'f1score': 2.0},\n",
       " '__label__83': {'precision': 0.8148148148148148,\n",
       "  'recall': nan,\n",
       "  'f1score': 1.6296296296296295},\n",
       " '__label__85': {'precision': 0.6666666666666666,\n",
       "  'recall': nan,\n",
       "  'f1score': 1.3333333333333333},\n",
       " '__label__64': {'precision': 0.42857142857142855,\n",
       "  'recall': nan,\n",
       "  'f1score': 0.8571428571428571},\n",
       " '__label__115': {'precision': 0.0, 'recall': nan, 'f1score': 0.0},\n",
       " '__label__87': {'precision': 1.0, 'recall': nan, 'f1score': 2.0},\n",
       " '__label__37': {'precision': 0.375, 'recall': nan, 'f1score': 0.75},\n",
       " '__label__79': {'precision': 1.0, 'recall': nan, 'f1score': 2.0},\n",
       " '__label__20': {'precision': 1.0, 'recall': nan, 'f1score': 2.0},\n",
       " '__label__78': {'precision': 1.0, 'recall': nan, 'f1score': 2.0},\n",
       " '__label__56': {'precision': 0.0, 'recall': nan, 'f1score': 0.0},\n",
       " '__label__19': {'precision': 0.4, 'recall': nan, 'f1score': 0.8},\n",
       " '__label__1': {'precision': 1.0, 'recall': nan, 'f1score': 2.0},\n",
       " '__label__30': {'precision': 0.75, 'recall': nan, 'f1score': 1.5},\n",
       " '__label__76': {'precision': 1.0, 'recall': nan, 'f1score': 2.0},\n",
       " '__label__151': {'precision': 0.75, 'recall': nan, 'f1score': 1.5},\n",
       " '__label__58': {'precision': 0.0, 'recall': nan, 'f1score': 0.0},\n",
       " '__label__121': {'precision': nan, 'recall': nan, 'f1score': nan},\n",
       " '__label__35': {'precision': 0.8, 'recall': nan, 'f1score': 1.6},\n",
       " '__label__125': {'precision': 0.5, 'recall': nan, 'f1score': 1.0},\n",
       " '__label__23': {'precision': 1.0, 'recall': nan, 'f1score': 2.0},\n",
       " '__label__127': {'precision': nan, 'recall': nan, 'f1score': nan},\n",
       " '__label__77': {'precision': 0.75, 'recall': nan, 'f1score': 1.5},\n",
       " '__label__17': {'precision': 0.8333333333333334,\n",
       "  'recall': nan,\n",
       "  'f1score': 1.6666666666666667},\n",
       " '__label__106': {'precision': 0.8888888888888888,\n",
       "  'recall': nan,\n",
       "  'f1score': 1.7777777777777777},\n",
       " '__label__134': {'precision': 1.0, 'recall': nan, 'f1score': 2.0},\n",
       " '__label__89': {'precision': 0.6666666666666666,\n",
       "  'recall': nan,\n",
       "  'f1score': 1.3333333333333333},\n",
       " '__label__101': {'precision': 1.0, 'recall': nan, 'f1score': 2.0},\n",
       " '__label__131': {'precision': 0.25, 'recall': nan, 'f1score': 0.5},\n",
       " '__label__46': {'precision': 1.0, 'recall': nan, 'f1score': 2.0},\n",
       " '__label__165': {'precision': 0.0, 'recall': nan, 'f1score': 0.0},\n",
       " '__label__160': {'precision': 1.0, 'recall': nan, 'f1score': 2.0},\n",
       " '__label__142': {'precision': nan, 'recall': nan, 'f1score': nan},\n",
       " '__label__124': {'precision': 1.0, 'recall': nan, 'f1score': 2.0},\n",
       " '__label__123': {'precision': 0.3333333333333333,\n",
       "  'recall': nan,\n",
       "  'f1score': 0.6666666666666666},\n",
       " '__label__50': {'precision': 1.0, 'recall': nan, 'f1score': 2.0},\n",
       " '__label__66': {'precision': nan, 'recall': nan, 'f1score': nan},\n",
       " '__label__120': {'precision': 1.0, 'recall': nan, 'f1score': 2.0},\n",
       " '__label__31': {'precision': 0.9230769230769231,\n",
       "  'recall': nan,\n",
       "  'f1score': 1.8461538461538463},\n",
       " '__label__143': {'precision': 0.0, 'recall': nan, 'f1score': 0.0},\n",
       " '__label__10': {'precision': 0.5, 'recall': nan, 'f1score': 1.0},\n",
       " '__label__73': {'precision': 1.0, 'recall': nan, 'f1score': 2.0},\n",
       " '__label__152': {'precision': 0.8333333333333334,\n",
       "  'recall': nan,\n",
       "  'f1score': 1.6666666666666667},\n",
       " '__label__43': {'precision': nan, 'recall': nan, 'f1score': nan},\n",
       " '__label__62': {'precision': 1.0, 'recall': nan, 'f1score': 2.0},\n",
       " '__label__44': {'precision': nan, 'recall': nan, 'f1score': nan},\n",
       " '__label__28': {'precision': 1.0, 'recall': nan, 'f1score': 2.0},\n",
       " '__label__117': {'precision': 1.0, 'recall': nan, 'f1score': 2.0},\n",
       " '__label__26': {'precision': 0.5, 'recall': nan, 'f1score': 1.0},\n",
       " '__label__33': {'precision': 0.5, 'recall': nan, 'f1score': 1.0},\n",
       " '__label__114': {'precision': 0.0, 'recall': nan, 'f1score': 0.0},\n",
       " '__label__11': {'precision': 0.5, 'recall': nan, 'f1score': 1.0},\n",
       " '__label__158': {'precision': 1.0, 'recall': nan, 'f1score': 2.0},\n",
       " '__label__153': {'precision': 0.5, 'recall': nan, 'f1score': 1.0},\n",
       " '__label__109': {'precision': 1.0, 'recall': nan, 'f1score': 2.0},\n",
       " '__label__81': {'precision': 1.0, 'recall': nan, 'f1score': 2.0},\n",
       " '__label__29': {'precision': 1.0, 'recall': nan, 'f1score': 2.0},\n",
       " '__label__102': {'precision': 1.0, 'recall': nan, 'f1score': 2.0},\n",
       " '__label__118': {'precision': nan, 'recall': nan, 'f1score': nan},\n",
       " '__label__132': {'precision': 1.0, 'recall': nan, 'f1score': 2.0},\n",
       " '__label__9': {'precision': 0.0, 'recall': nan, 'f1score': 0.0},\n",
       " '__label__145': {'precision': 0.0, 'recall': nan, 'f1score': 0.0},\n",
       " '__label__129': {'precision': 0.5, 'recall': nan, 'f1score': 1.0},\n",
       " '__label__159': {'precision': 1.0, 'recall': nan, 'f1score': 2.0},\n",
       " '__label__68': {'precision': nan, 'recall': nan, 'f1score': nan},\n",
       " '__label__75': {'precision': 1.0, 'recall': nan, 'f1score': 2.0},\n",
       " '__label__126': {'precision': 1.0, 'recall': nan, 'f1score': 2.0},\n",
       " '__label__3': {'precision': 1.0, 'recall': nan, 'f1score': 2.0},\n",
       " '__label__51': {'precision': 1.0, 'recall': nan, 'f1score': 2.0},\n",
       " '__label__141': {'precision': 0.25, 'recall': nan, 'f1score': 0.5},\n",
       " '__label__8': {'precision': 1.0, 'recall': nan, 'f1score': 2.0},\n",
       " '__label__137': {'precision': 1.0, 'recall': nan, 'f1score': 2.0},\n",
       " '__label__140': {'precision': 1.0, 'recall': nan, 'f1score': 2.0}}"
      ]
     },
     "execution_count": 54,
     "metadata": {},
     "output_type": "execute_result"
    }
   ],
   "source": [
    "model_ft_clas.test_label('datos_test_unal_fastext.txt')"
   ]
  },
  {
   "cell_type": "markdown",
   "id": "0b04eb03",
   "metadata": {},
   "source": [
    "#### Prueba del chatbot"
   ]
  },
  {
   "cell_type": "code",
   "execution_count": 78,
   "id": "a34b4284",
   "metadata": {},
   "outputs": [],
   "source": [
    "def chatbot_ft(pregunta):\n",
    "    y = model_ft_clas.predict(pregunta)[0][0][9:]\n",
    "    y = int(y)\n",
    "    \n",
    "    respuesta = data[data['respuesta_id'] == y]['respuesta'].values[0]\n",
    "\n",
    "    print('respuesta',respuesta)"
   ]
  },
  {
   "cell_type": "code",
   "execution_count": 79,
   "id": "890f0355",
   "metadata": {},
   "outputs": [
    {
     "name": "stdin",
     "output_type": "stream",
     "text": [
      "Hola! En qué puedo ayudarte hoy? peama\n"
     ]
    },
    {
     "name": "stdout",
     "output_type": "stream",
     "text": [
      "respuesta Respuesta para aspirantes interesados en ingresar a un programa curricular de pregrado:\n",
      "\n",
      "Atendiendo a su solicitud se informa que según lo establecido en el Artículo 6 de la Resolución 55 de 2016 de Rectoría, \"Por la cual se reglamenta para el Programa Especial de Admisión y Movilidad Académica (PEAMA) de Presencia Nacional, la admisión, la matrícula inicial para admitidos, la región de influencia para las Sedes Amazonia, Caribe, Orinoquia y Tumaco y los estímulos económicos para el personal académico de la Universidad Nacional de Colombia y se deroga la Resolución 887 de 2015 de la Rectoría\": “Los aspirantes a ser admitidos dentro del Programa Especial de Admisión y Movilidad Académica (PEAMA) de Presencia Nacional de la Universidad Nacional de Colombia, deberán cumplir con los dos requisitos siguientes:\n",
      "\n",
      "a.        Haber cursado los dos últimos años de bachillerato (educación media) en un colegio que se encuentre ubicado dentro de la región de influencia de la Sede de Presencia Nacional, de acuerdo a lo dispuesto en el artículo anterior.\n",
      "b.        Estar residiendo en la región de influencia de la Sede de Presencia Nacional por lo menos durante los dos años anteriores a la convocatoria del proceso de admisión”.\n",
      "\n",
      "La información adicional del Programa puede ser consultada en la página web de la Dirección Nacional de Admisiones, www.admisiones.unal.edu.co, pestaña \"Pregrado\", enlace \"Amazonía, Caribe, Orinoquía y Tumaco\" [disponible en la sección “Programa Especial de Admisión y Movilidad Académica (PEAMA)”].\n"
     ]
    }
   ],
   "source": [
    "pregunta = input('Hola! En qué puedo ayudarte hoy?')\n",
    "chatbot_ft(pregunta)"
   ]
  },
  {
   "cell_type": "code",
   "execution_count": null,
   "id": "5d19cdb4",
   "metadata": {},
   "outputs": [],
   "source": []
  },
  {
   "cell_type": "code",
   "execution_count": null,
   "id": "aa02f14f",
   "metadata": {},
   "outputs": [],
   "source": []
  }
 ],
 "metadata": {
  "kernelspec": {
   "display_name": "Python 3 (ipykernel)",
   "language": "python",
   "name": "python3"
  },
  "language_info": {
   "codemirror_mode": {
    "name": "ipython",
    "version": 3
   },
   "file_extension": ".py",
   "mimetype": "text/x-python",
   "name": "python",
   "nbconvert_exporter": "python",
   "pygments_lexer": "ipython3",
   "version": "3.8.6"
  },
  "widgets": {
   "application/vnd.jupyter.widget-state+json": {
    "state": {},
    "version_major": 2,
    "version_minor": 0
   }
  }
 },
 "nbformat": 4,
 "nbformat_minor": 5
}
