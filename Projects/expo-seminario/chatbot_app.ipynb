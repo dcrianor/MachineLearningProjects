{
 "cells": [
  {
   "cell_type": "code",
   "execution_count": null,
   "id": "371a03dd",
   "metadata": {},
   "outputs": [],
   "source": [
    "import pandas as pd\n",
    "import streamlit as st\n",
    "import fasttext \n",
    "\n",
    "data = pd.read_excel('dataset-augmented-joined-fixed-with-id.xlsx')\n",
    "\n",
    "model_ft_clas = fasttext.load_model('modelo_fasttext_class.ftz')\n",
    "\n",
    "st.title(\"Chatbot Dirección Nacional de Admisiones\")\n",
    "\n",
    "# Interacción con el usuario\n",
    "usuario_pregunta = st.text_input(\"Hola! En qué puedo ayudarte hoy? \\n\")\n",
    "\n",
    "if st.button(\"Enviar\"):\n",
    "    if usuario_pregunta:\n",
    "        # Llama a tu modelo de chatbot previamente entrenado\n",
    "        y = model_ft_clas.predict(usuario_pregunta)[0][0][9:]\n",
    "        y = int(y)\n",
    "    \n",
    "        respuesta = data[data['respuesta_id'] == y]['respuesta'].values[0]\n",
    "        st.write(\"Con gusto te ayudaré!\")\n",
    "        st.write(respuesta)\n",
    "    else:\n",
    "        st.warning(\"Por favor, ingresa una pregunta.\")"
   ]
  },
  {
   "cell_type": "markdown",
   "id": "1e2b9807",
   "metadata": {},
   "source": [
    "streamlit run chatbot_app.py"
   ]
  }
 ],
 "metadata": {
  "kernelspec": {
   "display_name": "Python 3 (ipykernel)",
   "language": "python",
   "name": "python3"
  },
  "language_info": {
   "codemirror_mode": {
    "name": "ipython",
    "version": 3
   },
   "file_extension": ".py",
   "mimetype": "text/x-python",
   "name": "python",
   "nbconvert_exporter": "python",
   "pygments_lexer": "ipython3",
   "version": "3.8.18"
  }
 },
 "nbformat": 4,
 "nbformat_minor": 5
}
