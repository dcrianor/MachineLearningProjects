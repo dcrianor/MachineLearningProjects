{
 "cells": [
  {
   "cell_type": "markdown",
   "id": "95887831",
   "metadata": {},
   "source": [
    "## Procesamiento de Lenguaje Natural: Clasificación de textos"
   ]
  },
  {
   "cell_type": "markdown",
   "id": "3bbc9301",
   "metadata": {},
   "source": [
    "### 1. Importar las librerías"
   ]
  },
  {
   "cell_type": "code",
   "execution_count": 1,
   "id": "9ecb42ac",
   "metadata": {
    "scrolled": true
   },
   "outputs": [],
   "source": [
    "import pandas as pd\n",
    "import numpy as np\n",
    "import nltk\n",
    "import re\n",
    "import torch\n",
    "import torch.nn as nn\n",
    "import torch.optim as optim\n",
    "import pytorch_lightning as pl\n",
    "import numpy as np\n",
    "from sklearn.model_selection import train_test_split\n",
    "from sklearn.feature_extraction.text import CountVectorizer\n",
    "from sklearn.metrics import accuracy_score\n",
    "from torch.utils.data import DataLoader, Dataset\n",
    "import spacy\n",
    "from unidecode import unidecode\n",
    "from tqdm import tqdm\n",
    "import pandas as pd\n",
    "from sklearn.preprocessing import LabelEncoder\n",
    "import fasttext\n",
    "from sklearn.model_selection import train_test_split\n",
    "import fasttext\n",
    "\n",
    "from sklearn.model_selection import train_test_split\n",
    "from sklearn.linear_model import LogisticRegression\n",
    "from sklearn.tree import DecisionTreeClassifier\n",
    "from sklearn.ensemble import RandomForestClassifier\n",
    "from sklearn.metrics import accuracy_score, confusion_matrix, classification_report, precision_score\n",
    "\n",
    "import xgboost as xgb\n",
    "import matplotlib.pyplot as plt"
   ]
  },
  {
   "cell_type": "markdown",
   "id": "dd8d39bd",
   "metadata": {},
   "source": [
    "### 2. Lectura de datos"
   ]
  },
  {
   "cell_type": "code",
   "execution_count": 3,
   "id": "4f6f0270",
   "metadata": {},
   "outputs": [],
   "source": [
    "data = pd.read_excel('dataset-augmented-joined-fixed-with-id.xlsx')"
   ]
  },
  {
   "cell_type": "markdown",
   "id": "aed5a094",
   "metadata": {},
   "source": [
    "### 3. Preprocesamiento de datos"
   ]
  },
  {
   "cell_type": "markdown",
   "id": "6bbc4f16",
   "metadata": {},
   "source": [
    "#### 3.1. Normalización del texto"
   ]
  },
  {
   "cell_type": "code",
   "execution_count": 4,
   "id": "d251ed8a",
   "metadata": {},
   "outputs": [
    {
     "name": "stderr",
     "output_type": "stream",
     "text": [
      "/Users/driano/anaconda3/envs/nlp-seminario/lib/python3.8/site-packages/torch/__init__.py:614: UserWarning: torch.set_default_tensor_type() is deprecated as of PyTorch 2.1, please use torch.set_default_dtype() and torch.set_default_device() as alternatives. (Triggered internally at /Users/runner/work/pytorch/pytorch/pytorch/torch/csrc/tensor/python_tensor.cpp:453.)\n",
      "  _C._set_default_tensor_type(t)\n"
     ]
    }
   ],
   "source": [
    "nlp = spacy.load('es_core_news_sm')\n",
    "wpt = nltk.WordPunctTokenizer()\n",
    "stop_words = nlp.Defaults.stop_words\n",
    "\n",
    "def normalize_document(doc):\n",
    "    # Utilizar Spacy para tokenizar, eliminar acentos y transformar a minúsculas\n",
    "   # remueve acentos: \n",
    "    doc = unidecode(doc)\n",
    "    # remueve caracteres especiales: \n",
    "    doc = re.sub(r'[^a-zA-Z\\s]', '', doc, re.I|re.A) \n",
    "    # re.I ignore si es mayúscula o minúscula; re.A solamente caracteres ASCII\n",
    "    # transforma a minúsculas\n",
    "    doc = doc.lower()\n",
    "    # remueve espacios en blanco en los extremos\n",
    "    doc = doc.strip()\n",
    "    tokens = wpt.tokenize(doc) #[token.text for token in doc if not token.is_punct]\n",
    "    \n",
    "    # Filtrar las palabras vacías\n",
    "    filtered_tokens = [token for token in tokens \\\n",
    "                       if token not in stop_words \\\n",
    "                      and len(token) > 2]\n",
    "    \n",
    "    # Reunir los tokens en un solo documento\n",
    "    doc = ' '.join(filtered_tokens)\n",
    "    \n",
    "    return doc"
   ]
  },
  {
   "cell_type": "code",
   "execution_count": 5,
   "id": "d9540a34",
   "metadata": {},
   "outputs": [],
   "source": [
    "data['text_procesado'] = data['pregunta'].map(normalize_document)"
   ]
  },
  {
   "cell_type": "code",
   "execution_count": 6,
   "id": "459c4325",
   "metadata": {},
   "outputs": [],
   "source": [
    "data['text_procesado'].to_csv('text_procesado_unal.txt')"
   ]
  },
  {
   "cell_type": "markdown",
   "id": "48c87930",
   "metadata": {},
   "source": [
    "#### 3.2. Train/test split"
   ]
  },
  {
   "cell_type": "code",
   "execution_count": 8,
   "id": "c83ed2d1",
   "metadata": {},
   "outputs": [
    {
     "name": "stdout",
     "output_type": "stream",
     "text": [
      "Tamaño del conjunto de entrenamiento: 3197\n",
      "Tamaño del conjunto de prueba: 800\n"
     ]
    }
   ],
   "source": [
    "# Supongamos que tienes un DataFrame llamado 'data' con columnas 'features' y 'target'.\n",
    "X = data['text_procesado'].values  # Características\n",
    "y = data['respuesta_id'].values    # Objetivos\n",
    "\n",
    "# Divide los datos en conjuntos de entrenamiento y prueba\n",
    "X_train, X_test, y_train, y_test = train_test_split(X, y, test_size=0.2, random_state=42)\n",
    "\n",
    "# Puedes ajustar el valor de 'test_size' para controlar la proporción de datos en el conjunto de prueba.\n",
    "# 'random_state' se utiliza para garantizar la reproducibilidad de la división, puedes cambiar su valor.\n",
    "\n",
    "# Imprime las longitudes de los conjuntos de entrenamiento y prueba\n",
    "print(\"Tamaño del conjunto de entrenamiento:\", len(X_train))\n",
    "print(\"Tamaño del conjunto de prueba:\", len(X_test))"
   ]
  },
  {
   "cell_type": "markdown",
   "id": "e86173c9",
   "metadata": {},
   "source": [
    "#### 3.4. Representaciones vectoriales de palabras"
   ]
  },
  {
   "cell_type": "code",
   "execution_count": 9,
   "id": "9eacf0a8",
   "metadata": {},
   "outputs": [
    {
     "name": "stderr",
     "output_type": "stream",
     "text": [
      "Warning : `load_model` does not return WordVectorModel or SupervisedModel any more, but a `FastText` object which is very similar.\n"
     ]
    }
   ],
   "source": [
    "path = 'text_representation_total_unal.ftz'\n",
    "\n",
    "try:\n",
    "    model_ft = fasttext.load_model(path)\n",
    "except:\n",
    "    model_ft = fasttext.train_unsupervised(\"text_procesado_unal.txt\", model='skipgram')\n",
    "    model_ft.save_model(path)"
   ]
  },
  {
   "cell_type": "code",
   "execution_count": 10,
   "id": "8071bfdc",
   "metadata": {},
   "outputs": [],
   "source": [
    "# Paso 2: Representa tus textos como vectores utilizando el modelo entrenado\n",
    "X_train_fasttext = [model_ft.get_sentence_vector(text) for text in X_train]\n",
    "X_test_fasttext = [model_ft.get_sentence_vector(text) for text in X_test]\n",
    "\n",
    "X_train_fasttext = np.array(X_train_fasttext)\n",
    "X_test_fasttext = np.array(X_test_fasttext)"
   ]
  },
  {
   "cell_type": "code",
   "execution_count": 11,
   "id": "db5cb1fb",
   "metadata": {},
   "outputs": [],
   "source": [
    "X_total = [model_ft.get_sentence_vector(text) for text in X]\n",
    "X_total_fasttext = np.array(X_total)"
   ]
  },
  {
   "cell_type": "markdown",
   "id": "0943c4c3",
   "metadata": {},
   "source": [
    "### 4. Modelos\n",
    "#### 4.1. Multilayer Perceptron"
   ]
  },
  {
   "cell_type": "code",
   "execution_count": 29,
   "id": "554e062a",
   "metadata": {},
   "outputs": [
    {
     "name": "stderr",
     "output_type": "stream",
     "text": [
      "GPU available: False, used: False\n",
      "TPU available: False, using: 0 TPU cores\n",
      "IPU available: False, using: 0 IPUs\n",
      "HPU available: False, using: 0 HPUs\n",
      "100%|██████████| 100/100 [02:21<00:00,  1.42s/it]"
     ]
    },
    {
     "name": "stdout",
     "output_type": "stream",
     "text": [
      "Accuracy on test data: 0.00375\n"
     ]
    },
    {
     "name": "stderr",
     "output_type": "stream",
     "text": [
      "\n"
     ]
    }
   ],
   "source": [
    "def init_weights(m):\n",
    "    if isinstance(m, nn.Linear):\n",
    "        nn.init.xavier_uniform_(m.weight)\n",
    "\n",
    "class TextClassificationModel(pl.LightningModule):\n",
    "    def __init__(self, input_dim, hidden_dim, output_dim, num_hidden_layers, dropout):\n",
    "        super(TextClassificationModel, self).__init__()\n",
    "        self.apply(init_weights)\n",
    "        self.input_layer = nn.Linear(input_dim, hidden_dim)  # Capa de entrada\n",
    "        self.hidden_layers = nn.ModuleList()\n",
    "        \n",
    "        # Agrega capas ocultas con Dropout\n",
    "        for _ in range(num_hidden_layers):\n",
    "            self.hidden_layers.append(nn.Linear(hidden_dim, hidden_dim))\n",
    "            self.hidden_layers.append(nn.ReLU())\n",
    "            self.hidden_layers.append(nn.Dropout(p=dropout))  # Añade una capa de Dropout con probabilidad dropout_prob\n",
    "        self.fc_out = nn.Linear(hidden_dim, output_dim)\n",
    "\n",
    "    def forward(self, x):\n",
    "        x = self.input_layer(x)  # Capa de entrada\n",
    "\n",
    "        for layer in self.hidden_layers:\n",
    "            x = layer(x)\n",
    "        x = self.fc_out(x)\n",
    "        return x\n",
    "\n",
    "    def optimizer(self):\n",
    "        optimizer = optim.Adam(self.parameters(), lr=1e-8, weight_decay=1e-4)\n",
    "        return optimizer\n",
    "\n",
    "    def training_step(self, batch, batch_idx):\n",
    "        x, y = batch\n",
    "        y_hat = self(x)\n",
    "        loss = nn.CrossEntropyLoss()(y_hat, y)\n",
    "        self.log('train_loss', loss)\n",
    "        return loss\n",
    "\n",
    "    def validation_step(self, batch, batch_idx):\n",
    "        x, y = batch\n",
    "        y_hat = self(x)\n",
    "        loss = nn.CrossEntropyLoss()(y_hat, y)\n",
    "        self.log('val_loss', loss)\n",
    "        return loss\n",
    "\n",
    "# Ajusta los hiperparámetros\n",
    "input_dim = X_train_fasttext.shape[1]\n",
    "hidden_dim = 512\n",
    "output_dim = len(data['respuesta_id'].unique())\n",
    "num_hidden_layers = 10\n",
    "dropout = 0.5  # Probabilidad de Dropout del 50%\n",
    "# Crea una instancia del modelo con los nuevos hiperparámetros\n",
    "\n",
    "model_mlp = TextClassificationModel(input_dim, hidden_dim, output_dim, num_hidden_layers, dropout)\n",
    "\n",
    "# Crear un DataLoader personalizado\n",
    "class TextDataset(Dataset):\n",
    "    def __init__(self, X, y):\n",
    "        self.X = X\n",
    "        self.y = y\n",
    "\n",
    "    def __len__(self):\n",
    "        return len(self.X)\n",
    "\n",
    "    def __getitem__(self, idx):\n",
    "        #print(idx)\n",
    "        return self.X[idx], self.y[idx]\n",
    "\n",
    "batch_size = 32\n",
    "train_dataset = TextDataset(X_train_fasttext, y_train)\n",
    "train_loader = DataLoader(train_dataset, batch_size=batch_size, shuffle=True)\n",
    "val_dataset = TextDataset(X_test_fasttext, y_test)\n",
    "val_loader = DataLoader(val_dataset, batch_size=batch_size)\n",
    "\n",
    "# Configuración del entrenamiento\n",
    "num_epochs = 100\n",
    "trainer = pl.Trainer(max_epochs=num_epochs)  # Si tienes una GPU disponible, puedes habilitarla aquí\n",
    "\n",
    "avg_train_loss = []\n",
    "avg_val_loss = []\n",
    "\n",
    "# Entrenamiento\n",
    "for epoch in tqdm(range(trainer.max_epochs)):\n",
    "    model_mlp.train()\n",
    "    total_loss = 0\n",
    "    num_batches = len(train_loader)\n",
    "\n",
    "    for batch in train_loader:\n",
    "        x, y = batch\n",
    "        model_mlp.optimizer().zero_grad()\n",
    "\n",
    "        y_hat = model_mlp(x)\n",
    "        #print(y_hat.shape)\n",
    "        y_hat_soft = nn.functional.softmax(y_hat, dim=1)\n",
    "        loss = nn.CrossEntropyLoss()(y_hat_soft, y.long())\n",
    "        total_loss += loss.item()\n",
    "        \n",
    "        loss.backward(retain_graph = True)\n",
    "        model_mlp.optimizer().step()\n",
    "    \n",
    "    avg_loss = total_loss / num_batches\n",
    "    avg_train_loss.append(avg_loss)\n",
    "\n",
    "    model_mlp.eval()\n",
    "    total_val_loss = 0\n",
    "    num_val_batches = len(val_loader)\n",
    "    \n",
    "    for batch in val_loader:\n",
    "        x, y = batch\n",
    "        model_mlp.optimizer().zero_grad()\n",
    "        y_hat = model_mlp(x)\n",
    "        y_hat_soft = nn.functional.softmax(y_hat, dim=1)\n",
    "        val_loss = nn.CrossEntropyLoss()(y_hat_soft, y.long())\n",
    "        total_val_loss += val_loss.item()\n",
    "        \n",
    "        #loss.backward(retain_graph=True)\n",
    "        #model.optimizer().step()\n",
    "\n",
    "    avg_val_loss.append(total_val_loss / num_val_batches)\n",
    "\n",
    "# Evaluación del modelo\n",
    "model_mlp.eval()\n",
    "y_pred_mlp = []\n",
    "\n",
    "with torch.no_grad():\n",
    "    for batch in val_loader:\n",
    "        x, _ = batch\n",
    "        y_hat = model_mlp(x)\n",
    "        y_hat_soft = nn.functional.softmax(y_hat, dim=1)\n",
    "        y_pred_mlp.extend(y_hat_soft.argmax(dim=1).cpu().numpy())\n",
    "\n",
    "accuracy = accuracy_score(y_test, y_pred_mlp)\n",
    "print(f'Accuracy on test data: {accuracy}')"
   ]
  },
  {
   "cell_type": "markdown",
   "id": "c01e609e",
   "metadata": {},
   "source": [
    "#### Training/Test Loss Plot"
   ]
  },
  {
   "cell_type": "code",
   "execution_count": 30,
   "id": "16cfe8f4",
   "metadata": {},
   "outputs": [
    {
     "data": {
      "text/plain": [
       "Text(0.5, 0, 'Epoch')"
      ]
     },
     "execution_count": 30,
     "metadata": {},
     "output_type": "execute_result"
    },
    {
     "data": {
      "image/png": "[encoded data removed]",
      "text/plain": [
       "<Figure size 640x480 with 1 Axes>"
      ]
     },
     "metadata": {},
     "output_type": "display_data"
    }
   ],
   "source": [
    "epocas = np.arange(num_epochs)\n",
    "plt.plot(epocas, avg_train_loss, label = 'Training')\n",
    "plt.plot(epocas, avg_val_loss, label = 'Test')\n",
    "plt.legend()\n",
    "\n",
    "plt.title('Training/Test Loss Plot')\n",
    "plt.ylabel('Loss')\n",
    "plt.xlabel('Epoch')"
   ]
  },
  {
   "cell_type": "markdown",
   "id": "99e24026",
   "metadata": {},
   "source": [
    "#### Prueba del chatbot"
   ]
  },
  {
   "cell_type": "code",
   "execution_count": 33,
   "id": "6c65eb01",
   "metadata": {},
   "outputs": [],
   "source": [
    "def chatbot_mlp(pregunta):\n",
    "    x = model_ft_clas.get_sentence_vector(normalize_document(pregunta))\n",
    "    x = torch.Tensor(x)\n",
    "    y = model_mlp(x).argmax().item()\n",
    "    respuesta = data[data['respuesta_id'] == y]['respuesta'].values[0]\n",
    "\n",
    "    print('respuesta',respuesta)"
   ]
  },
  {
   "cell_type": "code",
   "execution_count": 34,
   "id": "911b1ce9",
   "metadata": {},
   "outputs": [
    {
     "name": "stdin",
     "output_type": "stream",
     "text": [
      "Hola! ¿En qué te puedo ayudar hoy?  carreras\n"
     ]
    },
    {
     "name": "stdout",
     "output_type": "stream",
     "text": [
      "respuesta Usted podrá consultar sus resultados en la página web admisiones.unal.edu.co en la sección \"pregrado\" pestaña \"Consultar Resultados de Admisión\"\n"
     ]
    }
   ],
   "source": [
    "pregunta = input('Hola! ¿En qué te puedo ayudar hoy? ')\n",
    "chatbot_mlp(pregunta)"
   ]
  },
  {
   "cell_type": "markdown",
   "id": "951029e4",
   "metadata": {},
   "source": [
    "#### 4.2. Convolutional Neural Network"
   ]
  },
  {
   "cell_type": "code",
   "execution_count": 51,
   "id": "3c2c3b32",
   "metadata": {
    "scrolled": true
   },
   "outputs": [
    {
     "name": "stderr",
     "output_type": "stream",
     "text": [
      "GPU available: False, used: False\n",
      "TPU available: False, using: 0 TPU cores\n",
      "IPU available: False, using: 0 IPUs\n",
      "HPU available: False, using: 0 HPUs\n",
      "100%|██████████| 100/100 [01:15<00:00,  1.32it/s]"
     ]
    },
    {
     "name": "stdout",
     "output_type": "stream",
     "text": [
      "Accuracy on test data: 0.03375\n"
     ]
    },
    {
     "name": "stderr",
     "output_type": "stream",
     "text": [
      "\n"
     ]
    }
   ],
   "source": [
    "# Definición de la arquitectura de la CNN\n",
    "class TextCNNModel(pl.LightningModule):\n",
    "    def __init__(self, vocab_size, embedding_dim, num_classes, num_filters, filter_sizes, dropout):\n",
    "        super(TextCNNModel, self).__init__()\n",
    "        self.embedding = nn.Embedding(vocab_size, embedding_dim)\n",
    "        self.convs = nn.ModuleList([\n",
    "            nn.Conv2d(1, num_filters, (fs, embedding_dim)) for fs in filter_sizes\n",
    "        ])\n",
    "        self.fc = nn.Linear(num_filters * len(filter_sizes), num_classes)\n",
    "        self.dropout = nn.Dropout(dropout)\n",
    "\n",
    "    def forward(self, x):\n",
    "        x = self.embedding(x)\n",
    "        x = x.unsqueeze(1)\n",
    "        x = [torch.relu(conv(x)).squeeze(3) for conv in self.convs]\n",
    "        x = [torch.max_pool1d(i, i.size(2)).squeeze(2) for i in x]\n",
    "        x = torch.cat(x, 1)\n",
    "        x = self.dropout(x)\n",
    "        x = self.fc(x)\n",
    "        return x\n",
    "\n",
    "    def optimizer(self):\n",
    "        optimizer = optim.Adam(self.parameters(), lr=1e-4)  # Ajusta la tasa de aprendizaje según sea necesario\n",
    "        return optimizer\n",
    "\n",
    "    def training_step(self, batch, batch_idx):\n",
    "        x, y = batch\n",
    "        y_hat = self(x)\n",
    "        loss = nn.CrossEntropyLoss()(y_hat, y)\n",
    "        self.log('train_loss', loss)\n",
    "        return loss\n",
    "\n",
    "    def validation_step(self, batch, batch_idx):\n",
    "        x, y = batch\n",
    "        y_hat = self(x)\n",
    "        loss = nn.CrossEntropyLoss()(y_hat, y)\n",
    "        self.log('val_loss', loss)\n",
    "        return loss\n",
    "\n",
    "# Ajusta los hiperparámetros\n",
    "vocab_size = X_train_fasttext.shape[1]  # Reemplaza 'vocab' con tu propio vocabulario\n",
    "embedding_dim = 50  # Dimensión de los vectores de palabras pre-entrenados\n",
    "num_classes = len(data['respuesta_id'].unique())\n",
    "num_filters = 100\n",
    "filter_sizes = [3, 4, 5]  # Tamaños de los filtros convolucionales\n",
    "dropout = 0.5  # Probabilidad de Dropout del 50%\n",
    "\n",
    "# Crea una instancia del modelo de CNN\n",
    "model_cnn = TextCNNModel(vocab_size, embedding_dim, num_classes, num_filters, filter_sizes, dropout)\n",
    "\n",
    "# Configura los conjuntos de datos y los DataLoaders (ya los tienes configurados)\n",
    "\n",
    "# Crear un DataLoader personalizado\n",
    "class TextDataset(Dataset):\n",
    "    def __init__(self, X, y):\n",
    "        self.X = X\n",
    "        self.y = y\n",
    "\n",
    "    def __len__(self):\n",
    "        return len(self.X)\n",
    "\n",
    "    def __getitem__(self, idx):\n",
    "        #print(idx)\n",
    "        return self.X[idx], self.y[idx]\n",
    "\n",
    "batch_size = 64\n",
    "train_dataset = TextDataset(X_train_fasttext, y_train)\n",
    "train_loader = DataLoader(train_dataset, batch_size=batch_size, shuffle=True)\n",
    "val_dataset = TextDataset(X_test_fasttext, y_test)\n",
    "val_loader = DataLoader(val_dataset, batch_size=batch_size)\n",
    "\n",
    "# Configuración del entrenamiento\n",
    "num_epochs = 100\n",
    "trainer = pl.Trainer(max_epochs=num_epochs)  # Si tienes una GPU disponible, puedes habilitarla aquí\n",
    "\n",
    "avg_train_loss = []\n",
    "avg_val_loss = []\n",
    "\n",
    "# Entrenamiento\n",
    "for epoch in tqdm(range(trainer.max_epochs)):\n",
    "    model_cnn.train()\n",
    "    total_loss = 0\n",
    "    num_batches = len(train_loader)\n",
    "\n",
    "    for batch in train_loader:\n",
    "        x, y = batch\n",
    "        model_cnn.optimizer().zero_grad()\n",
    "\n",
    "        y_hat = model_cnn(x.long())\n",
    "        #print(y_hat.shape)\n",
    "        y_hat_soft = nn.functional.softmax(y_hat, dim=1)\n",
    "        loss = nn.CrossEntropyLoss()(y_hat_soft, y.long())\n",
    "        total_loss += loss.item()\n",
    "        \n",
    "        loss.backward(retain_graph = True)\n",
    "        model_cnn.optimizer().step()\n",
    "    \n",
    "    avg_loss = total_loss / num_batches\n",
    "    avg_train_loss.append(avg_loss)\n",
    "\n",
    "    model_cnn.eval()\n",
    "    total_val_loss = 0\n",
    "    num_val_batches = len(val_loader)\n",
    "    \n",
    "    for batch in val_loader:\n",
    "        x, y = batch\n",
    "        model_cnn.optimizer().zero_grad()\n",
    "        y_hat = model_cnn(x.long())\n",
    "        y_hat_soft = nn.functional.softmax(y_hat, dim=1)\n",
    "        val_loss = nn.CrossEntropyLoss()(y_hat_soft, y.long())\n",
    "        total_val_loss += val_loss.item()\n",
    "        \n",
    "        #loss.backward(retain_graph=True)\n",
    "        #model.optimizer().step()\n",
    "\n",
    "    avg_val_loss.append(total_val_loss / num_val_batches)\n",
    "\n",
    "# Evaluación del modelo\n",
    "model_cnn.eval()\n",
    "y_pred_cnn = []\n",
    "\n",
    "with torch.no_grad():\n",
    "    for batch in val_loader:\n",
    "        x, _ = batch\n",
    "        y_hat = model_cnn(x.long())\n",
    "        y_hat_soft = nn.functional.softmax(y_hat, dim=1)\n",
    "        y_pred_cnn.extend(y_hat_soft.argmax(dim=1).cpu().numpy())\n",
    "\n",
    "accuracy = accuracy_score(y_test, y_pred_cnn)\n",
    "print(f'Accuracy on test data: {accuracy}')"
   ]
  },
  {
   "cell_type": "markdown",
   "id": "72c542d8",
   "metadata": {},
   "source": [
    "#### Training/Test Loss Plot"
   ]
  },
  {
   "cell_type": "code",
   "execution_count": 52,
   "id": "fe85f3df",
   "metadata": {},
   "outputs": [
    {
     "data": {
      "text/plain": [
       "[<matplotlib.lines.Line2D at 0x7f3b09fcb220>]"
      ]
     },
     "execution_count": 52,
     "metadata": {},
     "output_type": "execute_result"
    },
    {
     "data": {
      "image/png": "[encoded data removed]",
      "text/plain": [
       "<Figure size 640x480 with 1 Axes>"
      ]
     },
     "metadata": {},
     "output_type": "display_data"
    }
   ],
   "source": [
    "epocas = np.arange(num_epochs)\n",
    "plt.plot(epocas, avg_train_loss)\n",
    "plt.plot(epocas, avg_val_loss)"
   ]
  },
  {
   "cell_type": "markdown",
   "id": "79956e55",
   "metadata": {},
   "source": [
    "#### Prueba del chatbot"
   ]
  },
  {
   "cell_type": "code",
   "execution_count": 53,
   "id": "27068323",
   "metadata": {},
   "outputs": [],
   "source": [
    "def chatbot_cnn(pregunta):\n",
    "    x = model_ft.get_sentence_vector(normalize_document(pregunta))\n",
    "    x = torch.Tensor(x).reshape(1,100)\n",
    "    y = model_cnn(x.long()).argmax().item()\n",
    "    respuesta = data[data['respuesta_id'] == y]['respuesta'].values[0]\n",
    "\n",
    "    print(f'respuesta',respuesta)"
   ]
  },
  {
   "cell_type": "code",
   "execution_count": 54,
   "id": "c7a55139",
   "metadata": {},
   "outputs": [
    {
     "name": "stdin",
     "output_type": "stream",
     "text": [
      "Hola! ¿En qué te puedo ayudar hoy?  carreras\n"
     ]
    },
    {
     "name": "stdout",
     "output_type": "stream",
     "text": [
      "respuesta Aspirante, tenga en cuenta que dada las condiciones actuales impuestas por el COVID-19, el proceso de evaluación de aspirantes a pregrado se realizará a partir de los resultados de la Prueba Saber 11.\n",
      " \n",
      "Durante el proceso de inscripción a la Universidad, el aspirante deberá diligenciar el número del Registro SNP y el número y tipo de documento con el que presentó la prueba Saber 11 que empleará en el proceso de admisión a la Universidad Nacional de Colombia. La prueba debe haber sido presentada a partir del 2014-2 toda vez que, de acuerdo con el ICFES, las pruebas aplicadas a partir de ese periodo son comparables.\n",
      "\n",
      "El puntaje de admisión con el cual participará el aspirante será calculado por la Universidad Nacional de Colombia a partir de los puntajes de las pruebas de Matemáticas (PMA), Lectura Crítica (PLC), Sociales y Ciudadanas (PSC) y Ciencias Naturales (PCN) de la Prueba Saber 11. El modelo del cálculo del puntaje de admisión se encuentra publicado en la página web de la Dirección Nacional de Admisiones.\n",
      "\n",
      "Quien no haya realizado la Prueba Saber 11 en los períodos indicados no se ajusta al criterio de admisión. Si desea participar en esta convocatoria puede optar por presentar las Pruebas Saber 11 que realizará el ICFES en el primer semestre del año en curso. Se sugiere verificar las fechas de inscripción directamente con esa institución.  \n",
      "\n",
      "Para ampliar la información sobre el pago y formalización para aspirantes que se encuentren en el exterior se invita a ingresar a la página web: www.admisiones.unal.edu.co, pestaña Pregrado, en la sección Información para aspirantes seleccione el vínculo \"Aspirantes que se encuentran fuera de Colombia\" o \"Aspirantes extranjeros que desean estudiar en la Universidad\". Allí encuentra una guía detallada para realizar el pago y diligenciar el formulario de inscripción desde el extranjero.\n"
     ]
    }
   ],
   "source": [
    "pregunta = input('Hola! ¿En qué te puedo ayudar hoy? ')\n",
    "chatbot_cnn(pregunta)"
   ]
  },
  {
   "cell_type": "markdown",
   "id": "d1058c9f",
   "metadata": {},
   "source": [
    "#### 4.3. Recurrent Neural Network"
   ]
  },
  {
   "cell_type": "code",
   "execution_count": 56,
   "id": "08a9c22d",
   "metadata": {},
   "outputs": [
    {
     "name": "stderr",
     "output_type": "stream",
     "text": [
      "GPU available: False, used: False\n",
      "TPU available: False, using: 0 TPU cores\n",
      "IPU available: False, using: 0 IPUs\n",
      "HPU available: False, using: 0 HPUs\n",
      "100%|██████████| 100/100 [17:53<00:00, 10.73s/it]\n"
     ]
    },
    {
     "name": "stdout",
     "output_type": "stream",
     "text": [
      "Accuracy on test data: 0.03375\n"
     ]
    }
   ],
   "source": [
    "# Definición de la arquitectura de la RNN\n",
    "class TextRNNModel(pl.LightningModule):\n",
    "    def __init__(self, vocab_size, embedding_dim, hidden_dim, num_classes, num_layers, dropout):\n",
    "        super(TextRNNModel, self).__init__()\n",
    "        self.embedding = nn.Embedding(vocab_size, embedding_dim)\n",
    "        self.rnn = nn.RNN(input_size=embedding_dim, hidden_size=hidden_dim, num_layers=num_layers, dropout=dropout, batch_first=True)\n",
    "        self.fc = nn.Linear(hidden_dim, num_classes)\n",
    "\n",
    "    def forward(self, x):\n",
    "        x = self.embedding(x)\n",
    "        out, _ = self.rnn(x)\n",
    "        out = self.fc(out[:, -1, :])  # Utiliza la salida de la última capa de la secuencia\n",
    "        return out\n",
    "\n",
    "    def optimizer(self):\n",
    "        optimizer = optim.Adam(self.parameters(), lr=1e-3)  # Ajusta la tasa de aprendizaje según sea necesario\n",
    "        return optimizer\n",
    "\n",
    "    def training_step(self, batch, batch_idx):\n",
    "        x, y = batch\n",
    "        y_hat = self(x)\n",
    "        loss = nn.CrossEntropyLoss()(y_hat, y)\n",
    "        self.log('train_loss', loss)\n",
    "        return loss\n",
    "\n",
    "    def validation_step(self, batch, batch_idx):\n",
    "        x, y = batch\n",
    "        y_hat = self(x)\n",
    "        loss = nn.CrossEntropyLoss()(y_hat, y)\n",
    "        self.log('val_loss', loss)\n",
    "        return loss\n",
    "\n",
    "# Ajusta los hiperparámetros\n",
    "vocab_size = X_train_fasttext.shape[1]   # Reemplaza 'vocab' con tu propio vocabulario\n",
    "embedding_dim = 100  # Dimensión de los vectores de palabras pre-entrenados\n",
    "hidden_dim = 256  # Dimensión de las capas ocultas de la RNN\n",
    "num_classes = len(data['respuesta_id'].unique())\n",
    "num_layers = 2  # Número de capas de la RNN\n",
    "dropout = 0.5  # Probabilidad de Dropout del 50%\n",
    "\n",
    "# Crea una instancia del modelo de RNN\n",
    "model_rnn = TextRNNModel(vocab_size, embedding_dim, hidden_dim, num_classes, num_layers, dropout)\n",
    "\n",
    "# Configura los conjuntos de datos y los DataLoaders (ya los tienes configurados)\n",
    "\n",
    "# Crear un DataLoader personalizado\n",
    "class TextDataset(Dataset):\n",
    "    def __init__(self, X, y):\n",
    "        self.X = X\n",
    "        self.y = y\n",
    "\n",
    "    def __len__(self):\n",
    "        return len(self.X)\n",
    "\n",
    "    def __getitem__(self, idx):\n",
    "        #print(idx)\n",
    "        return self.X[idx], self.y[idx]\n",
    "\n",
    "batch_size = 32\n",
    "train_dataset = TextDataset(X_train_fasttext, y_train)\n",
    "train_loader = DataLoader(train_dataset, batch_size=batch_size, shuffle=True)\n",
    "val_dataset = TextDataset(X_test_fasttext, y_test)\n",
    "val_loader = DataLoader(val_dataset, batch_size=batch_size)\n",
    "\n",
    "# Configuración del entrenamiento\n",
    "num_epochs = 100\n",
    "trainer = pl.Trainer(max_epochs=num_epochs)  # Si tienes una GPU disponible, puedes habilitarla aquí\n",
    "\n",
    "avg_train_loss = []\n",
    "avg_val_loss = []\n",
    "\n",
    "# Entrenamiento\n",
    "for epoch in tqdm(range(trainer.max_epochs)):\n",
    "    model_rnn.train()\n",
    "    total_loss = 0\n",
    "    num_batches = len(train_loader)\n",
    "\n",
    "    for batch in train_loader:\n",
    "        x, y = batch\n",
    "        model_rnn.optimizer().zero_grad()\n",
    "\n",
    "        y_hat = model_rnn(x.long())\n",
    "        #print(y_hat.shape)\n",
    "        y_hat_soft = nn.functional.softmax(y_hat, dim=1)\n",
    "        loss = nn.CrossEntropyLoss()(y_hat_soft, y.long())\n",
    "        total_loss += loss.item()\n",
    "        \n",
    "        loss.backward(retain_graph = True)\n",
    "        model_rnn.optimizer().step()\n",
    "    \n",
    "    avg_loss = total_loss / num_batches\n",
    "    avg_train_loss.append(avg_loss)\n",
    "\n",
    "    model_rnn.eval()\n",
    "    total_val_loss = 0\n",
    "    num_val_batches = len(val_loader)\n",
    "    \n",
    "    for batch in val_loader:\n",
    "        x, y = batch\n",
    "        model_rnn.optimizer().zero_grad()\n",
    "        y_hat = model_rnn(x.long())\n",
    "        y_hat_soft = nn.functional.softmax(y_hat, dim=1)\n",
    "        val_loss = nn.CrossEntropyLoss()(y_hat_soft, y.long())\n",
    "        total_val_loss += val_loss.item()\n",
    "        \n",
    "        #loss.backward(retain_graph=True)\n",
    "        #model.optimizer().step()\n",
    "\n",
    "    avg_val_loss.append(total_val_loss / num_val_batches)\n",
    "\n",
    "# Evaluación del modelo\n",
    "model_rnn.eval()\n",
    "y_pred_rnn = []\n",
    "\n",
    "with torch.no_grad():\n",
    "    for batch in val_loader:\n",
    "        x, _ = batch\n",
    "        y_hat = model_rnn(x.long())\n",
    "        y_hat_soft = nn.functional.softmax(y_hat, dim=1)\n",
    "        y_pred_rnn.extend(y_hat_soft.argmax(dim=1).cpu().numpy())\n",
    "\n",
    "accuracy = accuracy_score(y_test, y_pred_rnn)\n",
    "print(f'Accuracy on test data: {accuracy}')"
   ]
  },
  {
   "cell_type": "markdown",
   "id": "17fc8f5e",
   "metadata": {},
   "source": [
    "#### Training/Test Loss Plot"
   ]
  },
  {
   "cell_type": "code",
   "execution_count": 57,
   "id": "366acfac",
   "metadata": {},
   "outputs": [
    {
     "data": {
      "text/plain": [
       "[<matplotlib.lines.Line2D at 0x7f3b09e481f0>]"
      ]
     },
     "execution_count": 57,
     "metadata": {},
     "output_type": "execute_result"
    },
    {
     "data": {
      "image/png": "[encoded data removed]",
      "text/plain": [
       "<Figure size 640x480 with 1 Axes>"
      ]
     },
     "metadata": {},
     "output_type": "display_data"
    }
   ],
   "source": [
    "epocas = np.arange(num_epochs)\n",
    "plt.plot(epocas, avg_train_loss)\n",
    "plt.plot(epocas, avg_val_loss)"
   ]
  },
  {
   "cell_type": "markdown",
   "id": "9414ce14",
   "metadata": {},
   "source": [
    "#### Prueba del chatbot"
   ]
  },
  {
   "cell_type": "code",
   "execution_count": 58,
   "id": "e58a6faf",
   "metadata": {},
   "outputs": [],
   "source": [
    "def chatbot_rnn(pregunta):\n",
    "    x = model_ft.get_sentence_vector(normalize_document(pregunta))\n",
    "    x = torch.Tensor(x).reshape(1,100)\n",
    "\n",
    "    y = model_rnn(x.long()).argmax(dim = 1).item()\n",
    "    \n",
    "    respuesta = data[data['respuesta_id'] == y]['respuesta'].values[0]\n",
    "\n",
    "    print('respuesta',respuesta)"
   ]
  },
  {
   "cell_type": "code",
   "execution_count": 60,
   "id": "630bb2fa",
   "metadata": {},
   "outputs": [
    {
     "name": "stdin",
     "output_type": "stream",
     "text": [
      "Hola! En qué puedo ayudarte hoy?  carreras\n"
     ]
    },
    {
     "name": "stdout",
     "output_type": "stream",
     "text": [
      "respuesta Aspirante, tenga en cuenta que dada las condiciones actuales impuestas por el COVID-19, el proceso de evaluación de aspirantes a pregrado se realizará a partir de los resultados de la Prueba Saber 11.\n",
      " \n",
      "Durante el proceso de inscripción a la Universidad, el aspirante deberá diligenciar el número del Registro SNP y el número y tipo de documento con el que presentó la prueba Saber 11 que empleará en el proceso de admisión a la Universidad Nacional de Colombia. La prueba debe haber sido presentada a partir del 2014-2 toda vez que, de acuerdo con el ICFES, las pruebas aplicadas a partir de ese periodo son comparables.\n",
      "\n",
      "El puntaje de admisión con el cual participará el aspirante será calculado por la Universidad Nacional de Colombia a partir de los puntajes de las pruebas de Matemáticas (PMA), Lectura Crítica (PLC), Sociales y Ciudadanas (PSC) y Ciencias Naturales (PCN) de la Prueba Saber 11. El modelo del cálculo del puntaje de admisión se encuentra publicado en la página web de la Dirección Nacional de Admisiones.\n",
      "\n",
      "Quien no haya realizado la Prueba Saber 11 en los períodos indicados no se ajusta al criterio de admisión. Si desea participar en esta convocatoria puede optar por presentar las Pruebas Saber 11 que realizará el ICFES en el primer semestre del año en curso. Se sugiere verificar las fechas de inscripción directamente con esa institución.  \n",
      "\n",
      "Para ampliar la información sobre el pago y formalización para aspirantes que se encuentren en el exterior se invita a ingresar a la página web: www.admisiones.unal.edu.co, pestaña Pregrado, en la sección Información para aspirantes seleccione el vínculo \"Aspirantes que se encuentran fuera de Colombia\" o \"Aspirantes extranjeros que desean estudiar en la Universidad\". Allí encuentra una guía detallada para realizar el pago y diligenciar el formulario de inscripción desde el extranjero.\n"
     ]
    }
   ],
   "source": [
    "pregunta = input('Hola! En qué puedo ayudarte hoy? ')\n",
    "chatbot_rnn(pregunta)"
   ]
  },
  {
   "cell_type": "markdown",
   "id": "0b73f800",
   "metadata": {},
   "source": [
    "#### 4.4. XGBoost"
   ]
  },
  {
   "cell_type": "code",
   "execution_count": 61,
   "id": "f06fabba",
   "metadata": {},
   "outputs": [
    {
     "data": {
      "text/plain": [
       "(3197, 100)"
      ]
     },
     "execution_count": 61,
     "metadata": {},
     "output_type": "execute_result"
    }
   ],
   "source": [
    "X_train_fasttext.shape"
   ]
  },
  {
   "cell_type": "code",
   "execution_count": 62,
   "id": "c2ede3d1",
   "metadata": {},
   "outputs": [
    {
     "data": {
      "text/plain": [
       "(3197,)"
      ]
     },
     "execution_count": 62,
     "metadata": {},
     "output_type": "execute_result"
    }
   ],
   "source": [
    "y_train.shape"
   ]
  },
  {
   "cell_type": "code",
   "execution_count": 65,
   "id": "35379daa",
   "metadata": {},
   "outputs": [
    {
     "name": "stdout",
     "output_type": "stream",
     "text": [
      "Accuracy on test data: 0.4975\n"
     ]
    }
   ],
   "source": [
    "# 3. Entrenamiento del modelo XGBoost\n",
    "model_xg = xgb.XGBClassifier()\n",
    "model_xg.fit(X_train_fasttext, y_train, verbose = True)\n",
    "\n",
    "# Predicciones en el conjunto de prueba\n",
    "y_pred_xg = model_xg.predict(X_test_fasttext)\n",
    "\n",
    "# Evaluación del modelo\n",
    "accuracy = accuracy_score(y_test, y_pred_xg)\n",
    "print(f'Accuracy on test data: {accuracy}')"
   ]
  },
  {
   "cell_type": "code",
   "execution_count": 66,
   "id": "ab305b25",
   "metadata": {},
   "outputs": [],
   "source": [
    "def chatbot_xgboost(pregunta):\n",
    "    x = model_ft.get_sentence_vector(normalize_document(pregunta))\n",
    "    y = model_xg.predict(np.array([x]))[0]\n",
    "    \n",
    "    respuesta = data[data['respuesta_id'] == y]['respuesta'].values[0]\n",
    "\n",
    "    print('respuesta',respuesta)"
   ]
  },
  {
   "cell_type": "code",
   "execution_count": 67,
   "id": "39804047",
   "metadata": {},
   "outputs": [
    {
     "name": "stdin",
     "output_type": "stream",
     "text": [
      "Hola! En qué puedo ayudarte hoy? carreras\n"
     ]
    },
    {
     "name": "stdout",
     "output_type": "stream",
     "text": [
      "respuesta En el momento de realizar la inscripción en la página web admisiones.unal.edu.co, podrá indicar hasta tres carreras de acuerdo a su prioridad.\n"
     ]
    }
   ],
   "source": [
    "pregunta = input('Hola! En qué puedo ayudarte hoy?')\n",
    "chatbot_xgboost(pregunta)"
   ]
  },
  {
   "cell_type": "markdown",
   "id": "40bfda47",
   "metadata": {},
   "source": [
    "### 5. Métricas"
   ]
  },
  {
   "cell_type": "code",
   "execution_count": 72,
   "id": "3cc43d55",
   "metadata": {},
   "outputs": [
    {
     "name": "stdout",
     "output_type": "stream",
     "text": [
      "Exactitud (Accuracy):\n",
      "Multilayer Perceptron: 0.00375\n",
      "Convolutional Neural Network: 0.03375\n",
      "Recurrent Neural Network: 0.03375\n",
      "XGBoost: 0.4975\n",
      "\n",
      "Precision (Precision):\n",
      "Multilayer Perceptron: 1.40625e-05\n",
      "Convolutional Neural Network: 0.0011390625\n",
      "Recurrent Neural Network: 0.0011390625\n",
      "XGBoost: 0.5084826982297378\n"
     ]
    },
    {
     "name": "stderr",
     "output_type": "stream",
     "text": [
      "/home/melibuntu/.cache/pypoetry/virtualenvs/app-QoKfD4mD-py3.8/lib/python3.8/site-packages/sklearn/metrics/_classification.py:1344: UndefinedMetricWarning: Precision is ill-defined and being set to 0.0 in labels with no predicted samples. Use `zero_division` parameter to control this behavior.\n",
      "  _warn_prf(average, modifier, msg_start, len(result))\n",
      "/home/melibuntu/.cache/pypoetry/virtualenvs/app-QoKfD4mD-py3.8/lib/python3.8/site-packages/sklearn/metrics/_classification.py:1344: UndefinedMetricWarning: Precision is ill-defined and being set to 0.0 in labels with no predicted samples. Use `zero_division` parameter to control this behavior.\n",
      "  _warn_prf(average, modifier, msg_start, len(result))\n",
      "/home/melibuntu/.cache/pypoetry/virtualenvs/app-QoKfD4mD-py3.8/lib/python3.8/site-packages/sklearn/metrics/_classification.py:1344: UndefinedMetricWarning: Precision is ill-defined and being set to 0.0 in labels with no predicted samples. Use `zero_division` parameter to control this behavior.\n",
      "  _warn_prf(average, modifier, msg_start, len(result))\n",
      "/home/melibuntu/.cache/pypoetry/virtualenvs/app-QoKfD4mD-py3.8/lib/python3.8/site-packages/sklearn/metrics/_classification.py:1344: UndefinedMetricWarning: Precision is ill-defined and being set to 0.0 in labels with no predicted samples. Use `zero_division` parameter to control this behavior.\n",
      "  _warn_prf(average, modifier, msg_start, len(result))\n"
     ]
    }
   ],
   "source": [
    "# Calcular y comparar métricas\n",
    "accuracy_mlp = accuracy_score(y_test, y_pred_mlp)\n",
    "accuracy_cnn = accuracy_score(y_test, y_pred_cnn)\n",
    "accuracy_rnn = accuracy_score(y_test, y_pred_rnn)\n",
    "accuracy_xg = accuracy_score(y_test, y_pred_xg)\n",
    "\n",
    "precision_mlp = precision_score(y_test, y_pred_mlp, average = 'weighted')\n",
    "precision_cnn = precision_score(y_test, y_pred_cnn,  average = 'weighted')\n",
    "precision_rnn = precision_score(y_test, y_pred_rnn,  average = 'weighted')\n",
    "precision_xg = precision_score(y_test, y_pred_xg,  average = 'weighted')\n",
    "\n",
    "# Imprimir las métricas\n",
    "print(\"Exactitud (Accuracy):\")\n",
    "print(f\"Multilayer Perceptron: {accuracy_mlp}\")\n",
    "print(f\"Convolutional Neural Network: {accuracy_cnn}\")\n",
    "print(f\"Recurrent Neural Network: {accuracy_rnn}\")\n",
    "print(f\"XGBoost: {accuracy_xg}\")\n",
    "\n",
    "# Imprimir las métricas\n",
    "print(\"\\nPrecision (Precision):\")\n",
    "print(f\"Multilayer Perceptron: {precision_mlp}\")\n",
    "print(f\"Convolutional Neural Network: {precision_cnn}\")\n",
    "print(f\"Recurrent Neural Network: {precision_rnn}\")\n",
    "print(f\"XGBoost: {precision_xg}\")"
   ]
  },
  {
   "cell_type": "markdown",
   "id": "07732709",
   "metadata": {},
   "source": [
    "### Fasttext"
   ]
  },
  {
   "cell_type": "code",
   "execution_count": 13,
   "id": "e28f16c0",
   "metadata": {},
   "outputs": [],
   "source": [
    "data['label'] = '__label__' + data['respuesta_id'].astype(float).astype(int).astype(str) + ' ' + data['text_procesado'].astype(str)\n",
    "\n",
    "X = data['label'].values  # Características\n",
    "\n",
    "# Divide los datos en conjuntos de entrenamiento y prueba\n",
    "X_train, X_test = train_test_split(X, test_size=0.2, random_state=42)"
   ]
  },
  {
   "cell_type": "code",
   "execution_count": 14,
   "id": "931ebc35",
   "metadata": {},
   "outputs": [],
   "source": [
    "data_train = pd.DataFrame({'label': X_train})\n",
    "\n",
    "data_train.to_csv('datos_train_unal_fastext.txt', index = False, header = False)\n",
    "\n",
    "data_test = pd.DataFrame({'label': X_test})\n",
    "\n",
    "data_test.to_csv('datos_test_unal_fastext.txt', index = False, header = False)"
   ]
  },
  {
   "cell_type": "code",
   "execution_count": 15,
   "id": "25542f91",
   "metadata": {},
   "outputs": [
    {
     "name": "stdout",
     "output_type": "stream",
     "text": [
      "__label__71 debo inscribirme examen suficiencia ingles procedimiento\r\n",
      "__label__30 precio carrera medicina\r\n",
      "__label__161 ubicacion rendir examen exterior\r\n",
      "__label__166 procedimiento devolucion pin utilice convocatoria\r\n",
      "__label__161 restriccion estudiantes extranjeros proceso admision\r\n",
      "__label__101 necesario indigena participar programa comunidades indigenas\r\n",
      "__label__30 costo estudiar medicina\r\n",
      "__label__47 algun costo asociado solicitud admision\r\n",
      "__label__47 universidad ofrece servicios apoyo estudiantes discapacidad visual\r\n",
      "__label__31 acceso codigo icfes colegio\r\n"
     ]
    }
   ],
   "source": [
    "!head datos_train_unal_fastext.txt"
   ]
  },
  {
   "cell_type": "code",
   "execution_count": 16,
   "id": "cdd34058",
   "metadata": {},
   "outputs": [
    {
     "name": "stderr",
     "output_type": "stream",
     "text": [
      "Warning : `load_model` does not return WordVectorModel or SupervisedModel any more, but a `FastText` object which is very similar.\n"
     ]
    }
   ],
   "source": [
    "try:\n",
    "    model_ft_clas = fasttext.load_model('modelo_fasttext_class.ftz')\n",
    "except:\n",
    "    model_ft_clas = fasttext.train_supervised(input='datos_train_unal_fastext.txt', \n",
    "                                              autotuneValidationFile='datos_test_unal_fastext.txt')\n",
    "    model_ft_clas.save_model('modelo_fasttext_class.ftz')"
   ]
  },
  {
   "cell_type": "code",
   "execution_count": 17,
   "id": "7d9bb1ff",
   "metadata": {},
   "outputs": [
    {
     "data": {
      "text/plain": [
       "(800, 0.78, 0.78)"
      ]
     },
     "execution_count": 17,
     "metadata": {},
     "output_type": "execute_result"
    }
   ],
   "source": [
    "model_ft_clas.test('datos_test_unal_fastext.txt')"
   ]
  },
  {
   "cell_type": "markdown",
   "id": "4e7f7ea0",
   "metadata": {},
   "source": [
    "#### Prueba del chatbot"
   ]
  },
  {
   "cell_type": "code",
   "execution_count": 30,
   "id": "3d393e0e",
   "metadata": {},
   "outputs": [],
   "source": [
    "def chatbot_ft(pregunta):\n",
    "    y = model_ft_clas.predict(pregunta)[0][0][9:]\n",
    "    y = int(y)\n",
    "    \n",
    "    respuesta = data[data['respuesta_id'] == y]['respuesta'].values[0]\n",
    "\n",
    "    print(respuesta)"
   ]
  },
  {
   "cell_type": "code",
   "execution_count": 31,
   "id": "1e2c5dc2",
   "metadata": {},
   "outputs": [
    {
     "name": "stdout",
     "output_type": "stream",
     "text": [
      "Hola! En qué puedo ayudarte hoy? \n",
      "peama\n",
      "Respuesta para aspirantes interesados en ingresar a un programa curricular de pregrado:\n",
      "\n",
      "Atendiendo a su solicitud se informa que según lo establecido en el Artículo 6 de la Resolución 55 de 2016 de Rectoría, \"Por la cual se reglamenta para el Programa Especial de Admisión y Movilidad Académica (PEAMA) de Presencia Nacional, la admisión, la matrícula inicial para admitidos, la región de influencia para las Sedes Amazonia, Caribe, Orinoquia y Tumaco y los estímulos económicos para el personal académico de la Universidad Nacional de Colombia y se deroga la Resolución 887 de 2015 de la Rectoría\": “Los aspirantes a ser admitidos dentro del Programa Especial de Admisión y Movilidad Académica (PEAMA) de Presencia Nacional de la Universidad Nacional de Colombia, deberán cumplir con los dos requisitos siguientes:\n",
      "\n",
      "a.        Haber cursado los dos últimos años de bachillerato (educación media) en un colegio que se encuentre ubicado dentro de la región de influencia de la Sede de Presencia Nacional, de acuerdo a lo dispuesto en el artículo anterior.\n",
      "b.        Estar residiendo en la región de influencia de la Sede de Presencia Nacional por lo menos durante los dos años anteriores a la convocatoria del proceso de admisión”.\n",
      "\n",
      "La información adicional del Programa puede ser consultada en la página web de la Dirección Nacional de Admisiones, www.admisiones.unal.edu.co, pestaña \"Pregrado\", enlace \"Amazonía, Caribe, Orinoquía y Tumaco\" [disponible en la sección “Programa Especial de Admisión y Movilidad Académica (PEAMA)”].\n"
     ]
    }
   ],
   "source": [
    "pregunta = input('Hola! En qué puedo ayudarte hoy? \\n')\n",
    "chatbot_ft(pregunta)"
   ]
  },
  {
   "cell_type": "code",
   "execution_count": null,
   "id": "3f137efc",
   "metadata": {},
   "outputs": [],
   "source": []
  },
  {
   "cell_type": "code",
   "execution_count": null,
   "id": "1e5cfd72",
   "metadata": {},
   "outputs": [],
   "source": []
  }
 ],
 "metadata": {
  "kernelspec": {
   "display_name": "Python 3 (ipykernel)",
   "language": "python",
   "name": "python3"
  },
  "language_info": {
   "codemirror_mode": {
    "name": "ipython",
    "version": 3
   },
   "file_extension": ".py",
   "mimetype": "text/x-python",
   "name": "python",
   "nbconvert_exporter": "python",
   "pygments_lexer": "ipython3",
   "version": "3.8.18"
  },
  "toc": {
   "base_numbering": 1,
   "nav_menu": {},
   "number_sections": true,
   "sideBar": true,
   "skip_h1_title": false,
   "title_cell": "Table of Contents",
   "title_sidebar": "Contents",
   "toc_cell": false,
   "toc_position": {
    "height": "calc(100% - 180px)",
    "left": "10px",
    "top": "150px",
    "width": "435.594px"
   },
   "toc_section_display": true,
   "toc_window_display": true
  },
  "widgets": {
   "application/vnd.jupyter.widget-state+json": {
    "state": {},
    "version_major": 2,
    "version_minor": 0
   }
  }
 },
 "nbformat": 4,
 "nbformat_minor": 5
}
